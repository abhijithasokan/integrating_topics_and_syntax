{
 "cells": [
  {
   "cell_type": "markdown",
   "id": "e128e5aa",
   "metadata": {
    "id": "e128e5aa"
   },
   "source": [
    "# PGM Exercise - Preprocessing the training data"
   ]
  },
  {
   "cell_type": "markdown",
   "id": "e7017f5b",
   "metadata": {
    "id": "e7017f5b"
   },
   "source": [
    "### Setup\n",
    "Uncomment and run the below block for the first time, to install the required packages"
   ]
  },
  {
   "cell_type": "code",
   "execution_count": null,
   "id": "df35b3a6",
   "metadata": {
    "id": "df35b3a6"
   },
   "outputs": [],
   "source": [
    "#!conda install -c conda-forge scikit-learn -y\n",
    "#!conda install spacy -y\n",
    "#!conda install tqdm -y\n",
    "#!conda install pandas -y\n",
    "#!python -m spacy download en_core_web_sm"
   ]
  },
  {
   "cell_type": "code",
   "execution_count": 1,
   "id": "8bdf831b",
   "metadata": {
    "id": "8bdf831b"
   },
   "outputs": [],
   "source": [
    "from sklearn.datasets import fetch_20newsgroups\n",
    "import spacy\n",
    "import tqdm\n",
    "from collections import Counter\n",
    "import pandas as pd\n",
    "import re"
   ]
  },
  {
   "cell_type": "code",
   "execution_count": 2,
   "id": "442768a4",
   "metadata": {
    "colab": {
     "base_uri": "https://localhost:8080/"
    },
    "id": "442768a4",
    "outputId": "4a5efdff-b211-4f9c-c2d1-5356b32f638e"
   },
   "outputs": [
    {
     "name": "stdout",
     "output_type": "stream",
     "text": [
      "Number of docs: 11314\n"
     ]
    }
   ],
   "source": [
    "data = fetch_20newsgroups(subset=\"train\", remove=('headers', 'footers', 'quotes'))\n",
    "nlp = spacy.load(\"en_core_web_sm\")\n",
    "\n",
    "print('Number of docs:', len(data.data))"
   ]
  },
  {
   "cell_type": "markdown",
   "id": "1d56c08b",
   "metadata": {
    "id": "1d56c08b"
   },
   "source": [
    "## Convert docs to list of tokens"
   ]
  },
  {
   "cell_type": "code",
   "execution_count": 3,
   "id": "01ec82ac",
   "metadata": {
    "colab": {
     "base_uri": "https://localhost:8080/",
     "height": 104,
     "referenced_widgets": [
      "1ef6497ba0eb451383310c4fb6cf5d95",
      "2a6b118bbf46435bbfc4aedeb4d70947",
      "0680e50d062c4bb3a7e0f7d6fe1957b2",
      "9ddf0111933f4c6a902c166c503386fe",
      "096a87c6707344f8be9792da3db3f209",
      "063fb0e87f454368aa87e54877441d4c",
      "c58906043da34b89b6c64d01a4c4a2a0",
      "722c2481d9ef4b408b8886b632fe6c9d",
      "a93826fdf5ca424993148d0aca838e37",
      "f39077dab5834f288bd24ddf000c8a49",
      "712be75c78f74897b24828b049ca6ec0"
     ]
    },
    "id": "01ec82ac",
    "outputId": "88e08798-d060-4ee2-b411-9b8d41432635"
   },
   "outputs": [
    {
     "name": "stderr",
     "output_type": "stream",
     "text": [
      "C:\\Users\\latip\\AppData\\Local\\Temp\\ipykernel_9268\\2012577019.py:8: TqdmDeprecationWarning: This function will be removed in tqdm==5.0.0\n",
      "Please use `tqdm.notebook.tqdm` instead of `tqdm.tqdm_notebook`\n",
      "  for udoc in tqdm.tqdm_notebook(nlp.pipe(unprocessed_docs, batch_size=64), total=len(unprocessed_docs)):\n"
     ]
    },
    {
     "data": {
      "application/vnd.jupyter.widget-view+json": {
       "model_id": "21f01f09488943178005c58403eb74a8",
       "version_major": 2,
       "version_minor": 0
      },
      "text/plain": [
       "  0%|          | 0/11314 [00:00<?, ?it/s]"
      ]
     },
     "metadata": {},
     "output_type": "display_data"
    }
   ],
   "source": [
    "unprocessed_docs = data['data']\n",
    "def pre_process_docs_before_vocab(unprocessed_docs):\n",
    "    docs = []\n",
    "    patterns_and_replacements = {\n",
    "        '<EMAIL>' : re.compile(r'^[\\w\\.-]+@[\\w\\.-]+\\.\\w+$')\n",
    "    }\n",
    "\n",
    "    for udoc in tqdm.tqdm_notebook(nlp.pipe(unprocessed_docs, batch_size=64), total=len(unprocessed_docs)):\n",
    "        doc = []\n",
    "        for token in udoc:\n",
    "            if token.is_alpha:\n",
    "                doc.append(token.text.lower())\n",
    "            elif token.is_punct:\n",
    "                # since punctuation would be one of the syntactic classes\n",
    "                doc.append(token.text[0]) # why just text[0]? to handle cases like '!!!' or '...'\n",
    "            elif token.is_space:\n",
    "                # all space char including '\\n' provides no meaning\n",
    "                continue\n",
    "            elif token.is_digit:\n",
    "                doc.append('<NUM>')\n",
    "            elif token.is_currency:\n",
    "                doc.append('<CUR>')\n",
    "            else:\n",
    "                for replacement, pattern in patterns_and_replacements.items():\n",
    "                    if pattern.match(token.text):\n",
    "                        doc.append(replacement)\n",
    "                        break\n",
    "\n",
    "        docs.append(doc)\n",
    "    return docs\n",
    "\n",
    "docs = pre_process_docs_before_vocab(unprocessed_docs)"
   ]
  },
  {
   "cell_type": "markdown",
   "id": "eae5dd70",
   "metadata": {
    "id": "eae5dd70"
   },
   "source": [
    "## Build vocabulary\n",
    "\n",
    "We will also remove the words that occur only once, since there is a good chance that those are typos"
   ]
  },
  {
   "cell_type": "code",
   "execution_count": 4,
   "id": "80a855e3",
   "metadata": {
    "colab": {
     "base_uri": "https://localhost:8080/",
     "height": 104,
     "referenced_widgets": [
      "e16e373ab2ec442a87b973cd4e19a896",
      "82f28765ca1447a0ab35832fb63e462f",
      "8273c20ea1514115a41b448ecd38b571",
      "83d83bf1eb9f44aab77ed530dc7f5be1",
      "93dcb0caf0bc4440af507772f5177c98",
      "94979669c7dc432880b3d228c32948a6",
      "ed86546b42464d5ea773d845bff9db28",
      "318dab618e344114afb47889e2b0c255",
      "2cf19b47c5ef498fb1c5e176192e0a22",
      "46545c0f844b4bbf9b447c26fa28798d",
      "55393086891b400286e21b386ad7ae23"
     ]
    },
    "id": "80a855e3",
    "outputId": "23d92820-95f7-48c1-8280-dd258b7b8118"
   },
   "outputs": [
    {
     "name": "stderr",
     "output_type": "stream",
     "text": [
      "C:\\Users\\latip\\AppData\\Local\\Temp\\ipykernel_9268\\397447190.py:3: TqdmDeprecationWarning: This function will be removed in tqdm==5.0.0\n",
      "Please use `tqdm.notebook.tqdm` instead of `tqdm.tqdm_notebook`\n",
      "  for doc in tqdm.tqdm_notebook(docs):\n"
     ]
    },
    {
     "data": {
      "application/vnd.jupyter.widget-view+json": {
       "model_id": "2bf8f129633e4481bf54b0f64c249994",
       "version_major": 2,
       "version_minor": 0
      },
      "text/plain": [
       "  0%|          | 0/11314 [00:00<?, ?it/s]"
      ]
     },
     "metadata": {},
     "output_type": "display_data"
    }
   ],
   "source": [
    "def build_vocab(docs, rare_words_threshold):\n",
    "    vocab = Counter()\n",
    "    for doc in tqdm.tqdm_notebook(docs):\n",
    "        vocab.update(doc)\n",
    "\n",
    "    # ignore words that are rare\n",
    "    vocab = Counter({key: count for key, count in vocab.items() if count > rare_words_threshold})\n",
    "    return vocab\n",
    "\n",
    "vocab = build_vocab(docs, rare_words_threshold=1)"
   ]
  },
  {
   "cell_type": "code",
   "execution_count": 5,
   "id": "9b265be3",
   "metadata": {
    "id": "9b265be3"
   },
   "outputs": [],
   "source": [
    "def remove_out_of_vocab_tokens(docs, vocab):\n",
    "    oov_count = 0\n",
    "    for doc in docs:\n",
    "        for ind, token in enumerate(doc):\n",
    "            if token not in vocab:\n",
    "                del doc[ind]\n",
    "                oov_count += 1\n",
    "    return docs, vocab\n",
    "\n",
    "\n",
    "docs, vocab = remove_out_of_vocab_tokens(docs, vocab)"
   ]
  },
  {
   "cell_type": "markdown",
   "id": "45627104",
   "metadata": {
    "id": "45627104"
   },
   "source": [
    "## View the processed data"
   ]
  },
  {
   "cell_type": "code",
   "execution_count": 6,
   "id": "881b8ccd",
   "metadata": {
    "colab": {
     "base_uri": "https://localhost:8080/"
    },
    "id": "881b8ccd",
    "outputId": "90250db2-010b-4bc9-e973-bb5e45910055"
   },
   "outputs": [
    {
     "name": "stdout",
     "output_type": "stream",
     "text": [
      "Vocab size:  33298\n",
      "\n",
      "\n",
      "Example after preprocessing\n",
      "------- Original -------\n",
      "I was wondering if anyone out there could enlighten me on this car I saw\n",
      "the other day. It was a 2-door sports car, looked to be from the late 60s/\n",
      "early 70s. It was called a Bricklin. The doors were really small. In addition,\n",
      "the front bumper was separate from the rest of the body. This is \n",
      "all I know. If anyone can tellme a model name, engine specs, years\n",
      "of production, where this car is made, history, or whatever info you\n",
      "have on this funky looking car, please e-mail.\n",
      "\n",
      "\n",
      "\n",
      "------- After preprocessing -------\n",
      "i was wondering if anyone out there could enlighten me on this car i saw the other day . it was a <NUM> - door sports car , looked to be from the late early . it was called a bricklin . the doors were really small . in addition , the front bumper was separate from the rest of the body . this is all i know . if anyone can a model name , engine specs , years of production , where this car is made , history , or whatever info you have on this funky looking car , please e - mail .\n",
      "\n",
      "\n",
      "\n",
      "------- MOST COMMON ITEMS IN VOCAB -------\n",
      "     Word   Count\n",
      "0       .  108200\n",
      "1     the  106381\n",
      "2       ,  104949\n",
      "3   <NUM>   59697\n",
      "4      to   53047\n",
      "5      of   46929\n",
      "6       a   43165\n",
      "7     and   42526\n",
      "8       -   38341\n",
      "9       i   34066\n",
      "10     in   31045\n",
      "11     is   31006\n",
      "12   that   28029\n",
      "13      )   27050\n",
      "14      \"   24772\n",
      "15      (   24729\n",
      "16     it   23619\n",
      "17      :   22567\n",
      "18    for   19962\n",
      "19      *   19876\n",
      "20    you   18357\n",
      "21      _   16925\n",
      "22      ?   14979\n",
      "23   this   14480\n",
      "24     on   14442\n",
      "25     be   13785\n",
      "26    are   13341\n",
      "27   have   13170\n",
      "28    not   13122\n",
      "29   with   12660\n",
      "\n",
      "\n",
      "\n",
      "------- Least COMMON ITEMS IN VOCAB -------\n",
      "                Word  Count\n",
      "0             millie      2\n",
      "1            jetskis      2\n",
      "2           unbelief      2\n",
      "3        tendentious      2\n",
      "4             atwood      2\n",
      "5          leibowitz      2\n",
      "6                miz      2\n",
      "7          atheisten      2\n",
      "8   konfessionslosen      2\n",
      "9    internationaler      2\n",
      "10            haught      2\n",
      "11      immoralities      2\n",
      "12               aap      2\n",
      "13             tangy      2\n",
      "14          stovetop      2\n",
      "15          horloges      2\n",
      "16             flops      2\n",
      "17               rdy      2\n",
      "18               els      2\n",
      "19                lz      2\n",
      "20               spt      2\n",
      "21           spindle      2\n",
      "22               trk      2\n",
      "23         harddisks      2\n",
      "24              uvic      2\n",
      "25        believeing      2\n",
      "26          facelike      2\n",
      "27            kerwin      2\n",
      "28               sze      2\n",
      "29          douglass      2\n"
     ]
    }
   ],
   "source": [
    "def compare_text_after_pre_processing(index, orig_docs, pre_processed_docs):\n",
    "    print(\"------- Original -------\")\n",
    "    print(orig_docs[index])\n",
    "    print(\"\\n\\n\\n------- After preprocessing -------\")\n",
    "    print(' '.join(pre_processed_docs[index]))\n",
    "\n",
    "print(\"Vocab size: \", len(vocab))\n",
    "print(\"\\n\\nExample after preprocessing\")\n",
    "compare_text_after_pre_processing(index=0, orig_docs=data['data'], pre_processed_docs=docs)\n",
    "\n",
    "\n",
    "\n",
    "\n",
    "\n",
    "most_common = vocab.most_common()[:30]\n",
    "least_common = vocab.most_common()[-30:]\n",
    "\n",
    "print(\"\\n\\n\\n------- MOST COMMON ITEMS IN VOCAB -------\")\n",
    "print(pd.DataFrame(most_common, columns=['Word', 'Count']))\n",
    "\n",
    "\n",
    "print(\"\\n\\n\\n------- Least COMMON ITEMS IN VOCAB -------\")\n",
    "print(pd.DataFrame(least_common[::-1], columns=['Word', 'Count']))"
   ]
  },
  {
   "cell_type": "code",
   "execution_count": 7,
   "id": "eIyvA5S3rSWz",
   "metadata": {
    "id": "eIyvA5S3rSWz"
   },
   "outputs": [],
   "source": [
    "processed_docs = []\n",
    "words = list(vocab.keys())\n",
    "for doc in docs:\n",
    "  doc_words = []\n",
    "  for word in doc:\n",
    "    if word in words:\n",
    "      word_idx = words.index(word)\n",
    "      doc_words.append(word_idx)\n",
    "  processed_docs.append(doc_words)\n",
    "\n",
    "\n"
   ]
  },
  {
   "cell_type": "code",
   "execution_count": 8,
   "id": "84d2f24f",
   "metadata": {
    "id": "84d2f24f"
   },
   "outputs": [],
   "source": [
    "import numpy as np\n",
    "\n",
    "M = len(docs)\n",
    "N = len(vocab)\n",
    "T = 10\n",
    "C = 5\n",
    "\n",
    "alpha = 0.1\n",
    "beta = 0.01\n",
    "delta = 0.1\n",
    "gamma = 0.1\n",
    "\n",
    "theta_d_z = np.zeros((M, T))\n",
    "phi_z_w = np.zeros((T, N))\n",
    "phi_c_w = np.zeros((C, N))\n",
    "transition_matrix = np.zeros((C, C))\n",
    "z_d_i = [np.random.randint(0, T, size=len(doc)) for doc in processed_docs]\n",
    "c_d_i = [np.random.randint(0, C, size=len(doc)) for doc in processed_docs]\n",
    "# z_d_i = [[0 for _ in range(len(doc))] for doc in docs]\n",
    "# c_d_i = [[0 for _ in range(len(doc))] for doc in docs]\n",
    "\n",
    "n_d = np.zeros((M))\n",
    "n_z = np.zeros((T))\n",
    "n_c = np.zeros((C))"
   ]
  },
  {
   "cell_type": "code",
   "execution_count": 9,
   "id": "741efed6",
   "metadata": {
    "id": "741efed6"
   },
   "outputs": [],
   "source": [
    "for d, doc in enumerate(processed_docs):\n",
    "  previous_class = None\n",
    "  for i, word in enumerate(doc):\n",
    "    c = c_d_i[d][i]\n",
    "    if c == 0:\n",
    "      z = z_d_i[d][i]\n",
    "      theta_d_z[d][z] += 1\n",
    "      phi_z_w[z, word] += 1\n",
    "      n_z[z] += 1\n",
    "    phi_c_w[c, word] += 1\n",
    "    n_c[c] += 1\n",
    "\n",
    "    n_d[d] += 1\n",
    "    if previous_class is not None:\n",
    "      transition_matrix[previous_class, c] += 1\n",
    "    previous_class = c\n"
   ]
  },
  {
   "cell_type": "code",
   "execution_count": null,
   "id": "5ej-UIKa6odf",
   "metadata": {
    "colab": {
     "base_uri": "https://localhost:8080/"
    },
    "id": "5ej-UIKa6odf",
    "outputId": "c3a83b49-8a05-4fb2-fd6e-d0cebb9a2801"
   },
   "outputs": [
    {
     "name": "stdout",
     "output_type": "stream",
     "text": [
      "[527020. 526507. 526686. 526684. 528482.]\n"
     ]
    }
   ],
   "source": [
    "def print_n_c():\n",
    "  print(n_c)\n",
    "\n",
    "print_n_c()\n",
    "\n"
   ]
  },
  {
   "cell_type": "code",
   "execution_count": null,
   "id": "wQoqvBzyAiAp",
   "metadata": {
    "colab": {
     "base_uri": "https://localhost:8080/"
    },
    "id": "wQoqvBzyAiAp",
    "outputId": "948c3041-4577-44c3-a989-323363ef63cc"
   },
   "outputs": [
    {
     "name": "stdout",
     "output_type": "stream",
     "text": [
      "[4 4 4 3 2 2 3 0 1 3 0 0 0 2 2 4 1 0 0 2 3 1 1 3 0 0 1 2 3 3 3 1 1 0 0 1 1\n",
      " 4 3 0 4 4 4 4 0 2 1 1 3 1 3 2 0 2 3 0 2 4 1 4 3 4 4 4 0 4 3 4 4 2 0 4 2 2\n",
      " 0 3 0 0 2 3 2 3 3 0 0 4 2 4 1 4 1 4 4 2 2 3 4 3 1 4 2 3 4 3 1 3 4]\n"
     ]
    }
   ],
   "source": [
    "print(c_d_i[0])"
   ]
  },
  {
   "cell_type": "code",
   "execution_count": 10,
   "id": "yX-w3X3UJv4j",
   "metadata": {
    "id": "yX-w3X3UJv4j"
   },
   "outputs": [],
   "source": [
    "def draw_topic(d, i, word):\n",
    "  z = z_d_i[d][i]\n",
    "  c = c_d_i[d][i]\n",
    "\n",
    "  if c == 0: # if the class is semantic class\n",
    "    theta_d_z[d][z] -= 1\n",
    "    phi_z_w[z, word] -= 1\n",
    "    n_z[z] -= 1\n",
    "\n",
    "  p_t_minus = theta_d_z[d] + alpha\n",
    "  p_w_z = 1.0\n",
    "\n",
    "  if c == 0:\n",
    "    p_w_z = (phi_z_w[:, word] + beta) / (n_z + N * beta)\n",
    "\n",
    "  p_z = p_t_minus * p_w_z\n",
    "\n",
    "  p_z = p_z / np.sum(p_z)\n",
    "\n",
    "\n",
    "  # new_z = np.random.multinomial(1, p_z).argmax()\n",
    "  new_z = np.random.choice(np.arange(T), p=p_z)\n",
    "  z_d_i[d][i] = new_z\n",
    "\n",
    "\n",
    "  if c == 0:\n",
    "    theta_d_z[d][new_z] += 1\n",
    "    phi_z_w[new_z, word] += 1\n",
    "    n_z[new_z] += 1\n",
    "\n",
    "\n",
    "\n",
    "\n"
   ]
  },
  {
   "cell_type": "code",
   "execution_count": 11,
   "id": "WWCq3dMwdVYt",
   "metadata": {
    "id": "WWCq3dMwdVYt"
   },
   "outputs": [],
   "source": [
    "def draw_class(d, i, word, doc_size):\n",
    "    z = z_d_i[d][i]\n",
    "    c = c_d_i[d][i]\n",
    "\n",
    "    phi_c_w[c, word] -= 1\n",
    "    n_c[c] -= 1\n",
    "\n",
    "    p_w_c = (phi_c_w[:, word] + delta) / (n_c + N * delta)\n",
    "    p_w_c[0] = (phi_z_w[z, word] + beta) / (n_z[z] + N * beta)\n",
    "\n",
    "    previous = None if i == 0 else c_d_i[d][i - 1]\n",
    "    next = None if i == (doc_size - 1) else  c_d_i[d][i + 1]\n",
    "\n",
    "    if previous is not None:\n",
    "      transition_matrix[previous][c] -= 1\n",
    "\n",
    "    if next is not None:\n",
    "      transition_matrix[c][next] -= 1\n",
    "\n",
    "    n_c_minus = np.zeros(C) if previous is None else transition_matrix[previous, :]\n",
    "    n_c_plus = np.zeros(C) if next is None else transition_matrix[:, next]\n",
    "\n",
    "    i_c_minus_plus = np.zeros(C)\n",
    "    i_c_minus = np.zeros(C)\n",
    "\n",
    "    if previous == c and c == next:\n",
    "      i_c_minus_plus[c] = 1\n",
    "\n",
    "    if previous == c:\n",
    "      i_c_minus[c] == 1\n",
    "\n",
    "\n",
    "    p_c_minus = (n_c_minus + gamma) * (n_c_plus + i_c_minus_plus + gamma) / (n_c + i_c_minus + C * gamma)\n",
    "\n",
    "    p_c = p_w_c * p_c_minus\n",
    "\n",
    "    p_c = p_c / np.sum(p_c)\n",
    "\n",
    "    try:\n",
    "      new_c = np.random.choice(np.arange(C), p=p_c)\n",
    "    except Exception as e:\n",
    "      print(f\"p_c: {p_c}\\n\")\n",
    "      print(f\"p_w_c: {p_w_c}\\n\")\n",
    "      print(f\"p_c_minus: {p_c_minus}\")\n",
    "      print(f\"n_c: {n_c}\")\n",
    "      print(f\"n_c_minus: {n_c_minus}\")\n",
    "      print(f\"n_c_plus: {n_c_plus}\")\n",
    "      raise e\n",
    "\n",
    "    c_d_i[d][i] = new_c\n",
    "\n",
    "    phi_c_w[new_c, word] += 1\n",
    "    n_c[new_c] += 1\n",
    "\n",
    "    if previous is not None:\n",
    "      transition_matrix[previous][new_c] += 1\n",
    "\n",
    "    if next is not None:\n",
    "      transition_matrix[new_c][next] += 1\n",
    "\n",
    "    if new_c == 0:\n",
    "      theta_d_z[d][z] += 1\n",
    "      phi_z_w[z, word] += 1\n",
    "      n_z[z] += 1\n",
    "\n",
    "\n"
   ]
  },
  {
   "cell_type": "code",
   "execution_count": null,
   "id": "JwkDdgln2a_K",
   "metadata": {
    "colab": {
     "background_save": true,
     "base_uri": "https://localhost:8080/",
     "height": 49,
     "referenced_widgets": [
      "23b4eb740b9c40b483b8b8deb58cc358",
      "ac128a8d3add4a348fe7fb60ca6778e2",
      "b943111d270d4d87afa22dff0639c681",
      "4b5a762ca70f48b6899272ba8e4b3981",
      "02e67123c8e2454cb2e291dcf468b56d",
      "ac786aba88564f1fb0c2eeeddd4979bd",
      "72722408e2c14e2989b0783641cfa634",
      "0f128e24f8014b6a9f61c0d74ee863d5",
      "d227a993e1bf433eb0cb4c5b1fbc3987",
      "50f440752a9443f2b18c956ace973f9a",
      "6a3352424a434fdb907062769408c293"
     ]
    },
    "id": "JwkDdgln2a_K",
    "outputId": "87480876-f733-4265-d23f-df92159befe8"
   },
   "outputs": [
    {
     "data": {
      "application/vnd.jupyter.widget-view+json": {
       "model_id": "116df44e08b74b8db96dd67ffc24a824",
       "version_major": 2,
       "version_minor": 0
      },
      "text/plain": [
       "  0%|          | 0/100 [00:00<?, ?it/s]"
      ]
     },
     "metadata": {},
     "output_type": "display_data"
    }
   ],
   "source": [
    "from tqdm.notebook import tqdm\n",
    "\n",
    "\n",
    "iterations_num = 100\n",
    "\n",
    "for iteration in tqdm(range(iterations_num)):\n",
    "  for d, doc in enumerate(processed_docs):\n",
    "    for i, word in enumerate(doc):\n",
    "      draw_class(d, i, word, len(doc))\n",
    "      draw_topic(d, i, word)\n",
    "\n",
    "\n",
    "\n"
   ]
  },
  {
   "cell_type": "code",
   "execution_count": null,
   "id": "mAwrATB4g9w9",
   "metadata": {
    "id": "mAwrATB4g9w9"
   },
   "outputs": [],
   "source": [
    "p = [ 1.00386207e+00, -3.86206700e-03, -6.49425105e-11, -1.15244206e-11,\n",
    " -6.56902187e-17]\n"
   ]
  },
  {
   "cell_type": "code",
   "execution_count": null,
   "id": "5i85XtOPbZe-",
   "metadata": {
    "id": "5i85XtOPbZe-"
   },
   "outputs": [],
   "source": []
  },
  {
   "cell_type": "code",
   "execution_count": null,
   "id": "apzVhmw0FKu2",
   "metadata": {
    "colab": {
     "base_uri": "https://localhost:8080/",
     "height": 454
    },
    "id": "apzVhmw0FKu2",
    "outputId": "016edd9d-a903-4109-cb7e-1d92e7de56a4"
   },
   "outputs": [
    {
     "data": {
      "image/png": "[encoded data removed]",
      "text/plain": [
       "<Figure size 640x480 with 1 Axes>"
      ]
     },
     "metadata": {},
     "output_type": "display_data"
    }
   ],
   "source": [
    "import matplotlib.pyplot as plt\n",
    "\n",
    "i = 1\n",
    "plt.plot(theta_d_z[i]/ sum(theta_d_z[i]));\n",
    "plt.title(\"Topic distribution $theta_i$ for document {}\".format(i));"
   ]
  },
  {
   "cell_type": "code",
   "execution_count": null,
   "id": "gCk1N26qFY9W",
   "metadata": {
    "colab": {
     "base_uri": "https://localhost:8080/"
    },
    "id": "gCk1N26qFY9W",
    "outputId": "4cfda518-aa2d-428f-9df8-9baeea93a8d1"
   },
   "outputs": [
    {
     "name": "stdout",
     "output_type": "stream",
     "text": [
      "Topic #0: <UNK> . the , <NUM> to of a and -\n",
      "Topic #1: <UNK> . , the to <NUM> of and a -\n",
      "Topic #2: <UNK> , . the <NUM> to of a - and\n",
      "Topic #3: <UNK> . , the <NUM> to of a and -\n",
      "Topic #4: <UNK> . , the <NUM> to of and a -\n",
      "Topic #5: <UNK> the . , <NUM> to of and - a\n",
      "Topic #6: <UNK> the . , to <NUM> of a and -\n",
      "Topic #7: <UNK> . the , of <NUM> to a and -\n",
      "Topic #8: <UNK> , . the <NUM> to of a and -\n",
      "Topic #9: <UNK> the . , <NUM> to of and a -\n"
     ]
    }
   ],
   "source": [
    "n_top_words = 10\n",
    "for topic_idx, topic in enumerate(phi_z_w):\n",
    "    message = \"Topic #%d: \" % topic_idx\n",
    "    message += \" \".join([words[i] for i in topic.argsort()[:-n_top_words - 1:-1]])\n",
    "    print(message)"
   ]
  },
  {
   "cell_type": "code",
   "execution_count": null,
   "id": "gMWDGuy7JYz2",
   "metadata": {
    "id": "gMWDGuy7JYz2"
   },
   "outputs": [],
   "source": [
    "\n",
    "\n",
    "\n",
    "\n"
   ]
  }
 ],
 "metadata": {
  "colab": {
   "provenance": []
  },
  "kernelspec": {
   "display_name": "Python (integrating_topics_syntax)",
   "language": "python",
   "name": "integrating_topics_syntax"
  },
  "language_info": {
   "codemirror_mode": {
    "name": "ipython",
    "version": 3
   },
   "file_extension": ".py",
   "mimetype": "text/x-python",
   "name": "python",
   "nbconvert_exporter": "python",
   "pygments_lexer": "ipython3",
   "version": "3.11.4"
  },
  "widgets": {
   "application/vnd.jupyter.widget-state+json": {
    "02e67123c8e2454cb2e291dcf468b56d": {
     "model_module": "@jupyter-widgets/base",
     "model_module_version": "1.2.0",
     "model_name": "LayoutModel",
     "state": {
      "_model_module": "@jupyter-widgets/base",
      "_model_module_version": "1.2.0",
      "_model_name": "LayoutModel",
      "_view_count": null,
      "_view_module": "@jupyter-widgets/base",
      "_view_module_version": "1.2.0",
      "_view_name": "LayoutView",
      "align_content": null,
      "align_items": null,
      "align_self": null,
      "border": null,
      "bottom": null,
      "display": null,
      "flex": null,
      "flex_flow": null,
      "grid_area": null,
      "grid_auto_columns": null,
      "grid_auto_flow": null,
      "grid_auto_rows": null,
      "grid_column": null,
      "grid_gap": null,
      "grid_row": null,
      "grid_template_areas": null,
      "grid_template_columns": null,
      "grid_template_rows": null,
      "height": null,
      "justify_content": null,
      "justify_items": null,
      "left": null,
      "margin": null,
      "max_height": null,
      "max_width": null,
      "min_height": null,
      "min_width": null,
      "object_fit": null,
      "object_position": null,
      "order": null,
      "overflow": null,
      "overflow_x": null,
      "overflow_y": null,
      "padding": null,
      "right": null,
      "top": null,
      "visibility": null,
      "width": null
     }
    },
    "063fb0e87f454368aa87e54877441d4c": {
     "model_module": "@jupyter-widgets/base",
     "model_module_version": "1.2.0",
     "model_name": "LayoutModel",
     "state": {
      "_model_module": "@jupyter-widgets/base",
      "_model_module_version": "1.2.0",
      "_model_name": "LayoutModel",
      "_view_count": null,
      "_view_module": "@jupyter-widgets/base",
      "_view_module_version": "1.2.0",
      "_view_name": "LayoutView",
      "align_content": null,
      "align_items": null,
      "align_self": null,
      "border": null,
      "bottom": null,
      "display": null,
      "flex": null,
      "flex_flow": null,
      "grid_area": null,
      "grid_auto_columns": null,
      "grid_auto_flow": null,
      "grid_auto_rows": null,
      "grid_column": null,
      "grid_gap": null,
      "grid_row": null,
      "grid_template_areas": null,
      "grid_template_columns": null,
      "grid_template_rows": null,
      "height": null,
      "justify_content": null,
      "justify_items": null,
      "left": null,
      "margin": null,
      "max_height": null,
      "max_width": null,
      "min_height": null,
      "min_width": null,
      "object_fit": null,
      "object_position": null,
      "order": null,
      "overflow": null,
      "overflow_x": null,
      "overflow_y": null,
      "padding": null,
      "right": null,
      "top": null,
      "visibility": null,
      "width": null
     }
    },
    "0680e50d062c4bb3a7e0f7d6fe1957b2": {
     "model_module": "@jupyter-widgets/controls",
     "model_module_version": "1.5.0",
     "model_name": "FloatProgressModel",
     "state": {
      "_dom_classes": [],
      "_model_module": "@jupyter-widgets/controls",
      "_model_module_version": "1.5.0",
      "_model_name": "FloatProgressModel",
      "_view_count": null,
      "_view_module": "@jupyter-widgets/controls",
      "_view_module_version": "1.5.0",
      "_view_name": "ProgressView",
      "bar_style": "success",
      "description": "",
      "description_tooltip": null,
      "layout": "IPY_MODEL_722c2481d9ef4b408b8886b632fe6c9d",
      "max": 11314,
      "min": 0,
      "orientation": "horizontal",
      "style": "IPY_MODEL_a93826fdf5ca424993148d0aca838e37",
      "value": 11314
     }
    },
    "096a87c6707344f8be9792da3db3f209": {
     "model_module": "@jupyter-widgets/base",
     "model_module_version": "1.2.0",
     "model_name": "LayoutModel",
     "state": {
      "_model_module": "@jupyter-widgets/base",
      "_model_module_version": "1.2.0",
      "_model_name": "LayoutModel",
      "_view_count": null,
      "_view_module": "@jupyter-widgets/base",
      "_view_module_version": "1.2.0",
      "_view_name": "LayoutView",
      "align_content": null,
      "align_items": null,
      "align_self": null,
      "border": null,
      "bottom": null,
      "display": null,
      "flex": null,
      "flex_flow": null,
      "grid_area": null,
      "grid_auto_columns": null,
      "grid_auto_flow": null,
      "grid_auto_rows": null,
      "grid_column": null,
      "grid_gap": null,
      "grid_row": null,
      "grid_template_areas": null,
      "grid_template_columns": null,
      "grid_template_rows": null,
      "height": null,
      "justify_content": null,
      "justify_items": null,
      "left": null,
      "margin": null,
      "max_height": null,
      "max_width": null,
      "min_height": null,
      "min_width": null,
      "object_fit": null,
      "object_position": null,
      "order": null,
      "overflow": null,
      "overflow_x": null,
      "overflow_y": null,
      "padding": null,
      "right": null,
      "top": null,
      "visibility": null,
      "width": null
     }
    },
    "0f128e24f8014b6a9f61c0d74ee863d5": {
     "model_module": "@jupyter-widgets/base",
     "model_module_version": "1.2.0",
     "model_name": "LayoutModel",
     "state": {
      "_model_module": "@jupyter-widgets/base",
      "_model_module_version": "1.2.0",
      "_model_name": "LayoutModel",
      "_view_count": null,
      "_view_module": "@jupyter-widgets/base",
      "_view_module_version": "1.2.0",
      "_view_name": "LayoutView",
      "align_content": null,
      "align_items": null,
      "align_self": null,
      "border": null,
      "bottom": null,
      "display": null,
      "flex": null,
      "flex_flow": null,
      "grid_area": null,
      "grid_auto_columns": null,
      "grid_auto_flow": null,
      "grid_auto_rows": null,
      "grid_column": null,
      "grid_gap": null,
      "grid_row": null,
      "grid_template_areas": null,
      "grid_template_columns": null,
      "grid_template_rows": null,
      "height": null,
      "justify_content": null,
      "justify_items": null,
      "left": null,
      "margin": null,
      "max_height": null,
      "max_width": null,
      "min_height": null,
      "min_width": null,
      "object_fit": null,
      "object_position": null,
      "order": null,
      "overflow": null,
      "overflow_x": null,
      "overflow_y": null,
      "padding": null,
      "right": null,
      "top": null,
      "visibility": null,
      "width": null
     }
    },
    "1ef6497ba0eb451383310c4fb6cf5d95": {
     "model_module": "@jupyter-widgets/controls",
     "model_module_version": "1.5.0",
     "model_name": "HBoxModel",
     "state": {
      "_dom_classes": [],
      "_model_module": "@jupyter-widgets/controls",
      "_model_module_version": "1.5.0",
      "_model_name": "HBoxModel",
      "_view_count": null,
      "_view_module": "@jupyter-widgets/controls",
      "_view_module_version": "1.5.0",
      "_view_name": "HBoxView",
      "box_style": "",
      "children": [
       "IPY_MODEL_2a6b118bbf46435bbfc4aedeb4d70947",
       "IPY_MODEL_0680e50d062c4bb3a7e0f7d6fe1957b2",
       "IPY_MODEL_9ddf0111933f4c6a902c166c503386fe"
      ],
      "layout": "IPY_MODEL_096a87c6707344f8be9792da3db3f209"
     }
    },
    "23b4eb740b9c40b483b8b8deb58cc358": {
     "model_module": "@jupyter-widgets/controls",
     "model_module_version": "1.5.0",
     "model_name": "HBoxModel",
     "state": {
      "_dom_classes": [],
      "_model_module": "@jupyter-widgets/controls",
      "_model_module_version": "1.5.0",
      "_model_name": "HBoxModel",
      "_view_count": null,
      "_view_module": "@jupyter-widgets/controls",
      "_view_module_version": "1.5.0",
      "_view_name": "HBoxView",
      "box_style": "",
      "children": [
       "IPY_MODEL_ac128a8d3add4a348fe7fb60ca6778e2",
       "IPY_MODEL_b943111d270d4d87afa22dff0639c681",
       "IPY_MODEL_4b5a762ca70f48b6899272ba8e4b3981"
      ],
      "layout": "IPY_MODEL_02e67123c8e2454cb2e291dcf468b56d"
     }
    },
    "2a6b118bbf46435bbfc4aedeb4d70947": {
     "model_module": "@jupyter-widgets/controls",
     "model_module_version": "1.5.0",
     "model_name": "HTMLModel",
     "state": {
      "_dom_classes": [],
      "_model_module": "@jupyter-widgets/controls",
      "_model_module_version": "1.5.0",
      "_model_name": "HTMLModel",
      "_view_count": null,
      "_view_module": "@jupyter-widgets/controls",
      "_view_module_version": "1.5.0",
      "_view_name": "HTMLView",
      "description": "",
      "description_tooltip": null,
      "layout": "IPY_MODEL_063fb0e87f454368aa87e54877441d4c",
      "placeholder": "​",
      "style": "IPY_MODEL_c58906043da34b89b6c64d01a4c4a2a0",
      "value": "100%"
     }
    },
    "2cf19b47c5ef498fb1c5e176192e0a22": {
     "model_module": "@jupyter-widgets/controls",
     "model_module_version": "1.5.0",
     "model_name": "ProgressStyleModel",
     "state": {
      "_model_module": "@jupyter-widgets/controls",
      "_model_module_version": "1.5.0",
      "_model_name": "ProgressStyleModel",
      "_view_count": null,
      "_view_module": "@jupyter-widgets/base",
      "_view_module_version": "1.2.0",
      "_view_name": "StyleView",
      "bar_color": null,
      "description_width": ""
     }
    },
    "318dab618e344114afb47889e2b0c255": {
     "model_module": "@jupyter-widgets/base",
     "model_module_version": "1.2.0",
     "model_name": "LayoutModel",
     "state": {
      "_model_module": "@jupyter-widgets/base",
      "_model_module_version": "1.2.0",
      "_model_name": "LayoutModel",
      "_view_count": null,
      "_view_module": "@jupyter-widgets/base",
      "_view_module_version": "1.2.0",
      "_view_name": "LayoutView",
      "align_content": null,
      "align_items": null,
      "align_self": null,
      "border": null,
      "bottom": null,
      "display": null,
      "flex": null,
      "flex_flow": null,
      "grid_area": null,
      "grid_auto_columns": null,
      "grid_auto_flow": null,
      "grid_auto_rows": null,
      "grid_column": null,
      "grid_gap": null,
      "grid_row": null,
      "grid_template_areas": null,
      "grid_template_columns": null,
      "grid_template_rows": null,
      "height": null,
      "justify_content": null,
      "justify_items": null,
      "left": null,
      "margin": null,
      "max_height": null,
      "max_width": null,
      "min_height": null,
      "min_width": null,
      "object_fit": null,
      "object_position": null,
      "order": null,
      "overflow": null,
      "overflow_x": null,
      "overflow_y": null,
      "padding": null,
      "right": null,
      "top": null,
      "visibility": null,
      "width": null
     }
    },
    "46545c0f844b4bbf9b447c26fa28798d": {
     "model_module": "@jupyter-widgets/base",
     "model_module_version": "1.2.0",
     "model_name": "LayoutModel",
     "state": {
      "_model_module": "@jupyter-widgets/base",
      "_model_module_version": "1.2.0",
      "_model_name": "LayoutModel",
      "_view_count": null,
      "_view_module": "@jupyter-widgets/base",
      "_view_module_version": "1.2.0",
      "_view_name": "LayoutView",
      "align_content": null,
      "align_items": null,
      "align_self": null,
      "border": null,
      "bottom": null,
      "display": null,
      "flex": null,
      "flex_flow": null,
      "grid_area": null,
      "grid_auto_columns": null,
      "grid_auto_flow": null,
      "grid_auto_rows": null,
      "grid_column": null,
      "grid_gap": null,
      "grid_row": null,
      "grid_template_areas": null,
      "grid_template_columns": null,
      "grid_template_rows": null,
      "height": null,
      "justify_content": null,
      "justify_items": null,
      "left": null,
      "margin": null,
      "max_height": null,
      "max_width": null,
      "min_height": null,
      "min_width": null,
      "object_fit": null,
      "object_position": null,
      "order": null,
      "overflow": null,
      "overflow_x": null,
      "overflow_y": null,
      "padding": null,
      "right": null,
      "top": null,
      "visibility": null,
      "width": null
     }
    },
    "4b5a762ca70f48b6899272ba8e4b3981": {
     "model_module": "@jupyter-widgets/controls",
     "model_module_version": "1.5.0",
     "model_name": "HTMLModel",
     "state": {
      "_dom_classes": [],
      "_model_module": "@jupyter-widgets/controls",
      "_model_module_version": "1.5.0",
      "_model_name": "HTMLModel",
      "_view_count": null,
      "_view_module": "@jupyter-widgets/controls",
      "_view_module_version": "1.5.0",
      "_view_name": "HTMLView",
      "description": "",
      "description_tooltip": null,
      "layout": "IPY_MODEL_50f440752a9443f2b18c956ace973f9a",
      "placeholder": "​",
      "style": "IPY_MODEL_6a3352424a434fdb907062769408c293",
      "value": " 0/100 [00:00&lt;?, ?it/s]"
     }
    },
    "50f440752a9443f2b18c956ace973f9a": {
     "model_module": "@jupyter-widgets/base",
     "model_module_version": "1.2.0",
     "model_name": "LayoutModel",
     "state": {
      "_model_module": "@jupyter-widgets/base",
      "_model_module_version": "1.2.0",
      "_model_name": "LayoutModel",
      "_view_count": null,
      "_view_module": "@jupyter-widgets/base",
      "_view_module_version": "1.2.0",
      "_view_name": "LayoutView",
      "align_content": null,
      "align_items": null,
      "align_self": null,
      "border": null,
      "bottom": null,
      "display": null,
      "flex": null,
      "flex_flow": null,
      "grid_area": null,
      "grid_auto_columns": null,
      "grid_auto_flow": null,
      "grid_auto_rows": null,
      "grid_column": null,
      "grid_gap": null,
      "grid_row": null,
      "grid_template_areas": null,
      "grid_template_columns": null,
      "grid_template_rows": null,
      "height": null,
      "justify_content": null,
      "justify_items": null,
      "left": null,
      "margin": null,
      "max_height": null,
      "max_width": null,
      "min_height": null,
      "min_width": null,
      "object_fit": null,
      "object_position": null,
      "order": null,
      "overflow": null,
      "overflow_x": null,
      "overflow_y": null,
      "padding": null,
      "right": null,
      "top": null,
      "visibility": null,
      "width": null
     }
    },
    "55393086891b400286e21b386ad7ae23": {
     "model_module": "@jupyter-widgets/controls",
     "model_module_version": "1.5.0",
     "model_name": "DescriptionStyleModel",
     "state": {
      "_model_module": "@jupyter-widgets/controls",
      "_model_module_version": "1.5.0",
      "_model_name": "DescriptionStyleModel",
      "_view_count": null,
      "_view_module": "@jupyter-widgets/base",
      "_view_module_version": "1.2.0",
      "_view_name": "StyleView",
      "description_width": ""
     }
    },
    "6a3352424a434fdb907062769408c293": {
     "model_module": "@jupyter-widgets/controls",
     "model_module_version": "1.5.0",
     "model_name": "DescriptionStyleModel",
     "state": {
      "_model_module": "@jupyter-widgets/controls",
      "_model_module_version": "1.5.0",
      "_model_name": "DescriptionStyleModel",
      "_view_count": null,
      "_view_module": "@jupyter-widgets/base",
      "_view_module_version": "1.2.0",
      "_view_name": "StyleView",
      "description_width": ""
     }
    },
    "712be75c78f74897b24828b049ca6ec0": {
     "model_module": "@jupyter-widgets/controls",
     "model_module_version": "1.5.0",
     "model_name": "DescriptionStyleModel",
     "state": {
      "_model_module": "@jupyter-widgets/controls",
      "_model_module_version": "1.5.0",
      "_model_name": "DescriptionStyleModel",
      "_view_count": null,
      "_view_module": "@jupyter-widgets/base",
      "_view_module_version": "1.2.0",
      "_view_name": "StyleView",
      "description_width": ""
     }
    },
    "722c2481d9ef4b408b8886b632fe6c9d": {
     "model_module": "@jupyter-widgets/base",
     "model_module_version": "1.2.0",
     "model_name": "LayoutModel",
     "state": {
      "_model_module": "@jupyter-widgets/base",
      "_model_module_version": "1.2.0",
      "_model_name": "LayoutModel",
      "_view_count": null,
      "_view_module": "@jupyter-widgets/base",
      "_view_module_version": "1.2.0",
      "_view_name": "LayoutView",
      "align_content": null,
      "align_items": null,
      "align_self": null,
      "border": null,
      "bottom": null,
      "display": null,
      "flex": null,
      "flex_flow": null,
      "grid_area": null,
      "grid_auto_columns": null,
      "grid_auto_flow": null,
      "grid_auto_rows": null,
      "grid_column": null,
      "grid_gap": null,
      "grid_row": null,
      "grid_template_areas": null,
      "grid_template_columns": null,
      "grid_template_rows": null,
      "height": null,
      "justify_content": null,
      "justify_items": null,
      "left": null,
      "margin": null,
      "max_height": null,
      "max_width": null,
      "min_height": null,
      "min_width": null,
      "object_fit": null,
      "object_position": null,
      "order": null,
      "overflow": null,
      "overflow_x": null,
      "overflow_y": null,
      "padding": null,
      "right": null,
      "top": null,
      "visibility": null,
      "width": null
     }
    },
    "72722408e2c14e2989b0783641cfa634": {
     "model_module": "@jupyter-widgets/controls",
     "model_module_version": "1.5.0",
     "model_name": "DescriptionStyleModel",
     "state": {
      "_model_module": "@jupyter-widgets/controls",
      "_model_module_version": "1.5.0",
      "_model_name": "DescriptionStyleModel",
      "_view_count": null,
      "_view_module": "@jupyter-widgets/base",
      "_view_module_version": "1.2.0",
      "_view_name": "StyleView",
      "description_width": ""
     }
    },
    "8273c20ea1514115a41b448ecd38b571": {
     "model_module": "@jupyter-widgets/controls",
     "model_module_version": "1.5.0",
     "model_name": "FloatProgressModel",
     "state": {
      "_dom_classes": [],
      "_model_module": "@jupyter-widgets/controls",
      "_model_module_version": "1.5.0",
      "_model_name": "FloatProgressModel",
      "_view_count": null,
      "_view_module": "@jupyter-widgets/controls",
      "_view_module_version": "1.5.0",
      "_view_name": "ProgressView",
      "bar_style": "success",
      "description": "",
      "description_tooltip": null,
      "layout": "IPY_MODEL_318dab618e344114afb47889e2b0c255",
      "max": 11314,
      "min": 0,
      "orientation": "horizontal",
      "style": "IPY_MODEL_2cf19b47c5ef498fb1c5e176192e0a22",
      "value": 11314
     }
    },
    "82f28765ca1447a0ab35832fb63e462f": {
     "model_module": "@jupyter-widgets/controls",
     "model_module_version": "1.5.0",
     "model_name": "HTMLModel",
     "state": {
      "_dom_classes": [],
      "_model_module": "@jupyter-widgets/controls",
      "_model_module_version": "1.5.0",
      "_model_name": "HTMLModel",
      "_view_count": null,
      "_view_module": "@jupyter-widgets/controls",
      "_view_module_version": "1.5.0",
      "_view_name": "HTMLView",
      "description": "",
      "description_tooltip": null,
      "layout": "IPY_MODEL_94979669c7dc432880b3d228c32948a6",
      "placeholder": "​",
      "style": "IPY_MODEL_ed86546b42464d5ea773d845bff9db28",
      "value": "100%"
     }
    },
    "83d83bf1eb9f44aab77ed530dc7f5be1": {
     "model_module": "@jupyter-widgets/controls",
     "model_module_version": "1.5.0",
     "model_name": "HTMLModel",
     "state": {
      "_dom_classes": [],
      "_model_module": "@jupyter-widgets/controls",
      "_model_module_version": "1.5.0",
      "_model_name": "HTMLModel",
      "_view_count": null,
      "_view_module": "@jupyter-widgets/controls",
      "_view_module_version": "1.5.0",
      "_view_name": "HTMLView",
      "description": "",
      "description_tooltip": null,
      "layout": "IPY_MODEL_46545c0f844b4bbf9b447c26fa28798d",
      "placeholder": "​",
      "style": "IPY_MODEL_55393086891b400286e21b386ad7ae23",
      "value": " 11314/11314 [00:00&lt;00:00, 17065.87it/s]"
     }
    },
    "93dcb0caf0bc4440af507772f5177c98": {
     "model_module": "@jupyter-widgets/base",
     "model_module_version": "1.2.0",
     "model_name": "LayoutModel",
     "state": {
      "_model_module": "@jupyter-widgets/base",
      "_model_module_version": "1.2.0",
      "_model_name": "LayoutModel",
      "_view_count": null,
      "_view_module": "@jupyter-widgets/base",
      "_view_module_version": "1.2.0",
      "_view_name": "LayoutView",
      "align_content": null,
      "align_items": null,
      "align_self": null,
      "border": null,
      "bottom": null,
      "display": null,
      "flex": null,
      "flex_flow": null,
      "grid_area": null,
      "grid_auto_columns": null,
      "grid_auto_flow": null,
      "grid_auto_rows": null,
      "grid_column": null,
      "grid_gap": null,
      "grid_row": null,
      "grid_template_areas": null,
      "grid_template_columns": null,
      "grid_template_rows": null,
      "height": null,
      "justify_content": null,
      "justify_items": null,
      "left": null,
      "margin": null,
      "max_height": null,
      "max_width": null,
      "min_height": null,
      "min_width": null,
      "object_fit": null,
      "object_position": null,
      "order": null,
      "overflow": null,
      "overflow_x": null,
      "overflow_y": null,
      "padding": null,
      "right": null,
      "top": null,
      "visibility": null,
      "width": null
     }
    },
    "94979669c7dc432880b3d228c32948a6": {
     "model_module": "@jupyter-widgets/base",
     "model_module_version": "1.2.0",
     "model_name": "LayoutModel",
     "state": {
      "_model_module": "@jupyter-widgets/base",
      "_model_module_version": "1.2.0",
      "_model_name": "LayoutModel",
      "_view_count": null,
      "_view_module": "@jupyter-widgets/base",
      "_view_module_version": "1.2.0",
      "_view_name": "LayoutView",
      "align_content": null,
      "align_items": null,
      "align_self": null,
      "border": null,
      "bottom": null,
      "display": null,
      "flex": null,
      "flex_flow": null,
      "grid_area": null,
      "grid_auto_columns": null,
      "grid_auto_flow": null,
      "grid_auto_rows": null,
      "grid_column": null,
      "grid_gap": null,
      "grid_row": null,
      "grid_template_areas": null,
      "grid_template_columns": null,
      "grid_template_rows": null,
      "height": null,
      "justify_content": null,
      "justify_items": null,
      "left": null,
      "margin": null,
      "max_height": null,
      "max_width": null,
      "min_height": null,
      "min_width": null,
      "object_fit": null,
      "object_position": null,
      "order": null,
      "overflow": null,
      "overflow_x": null,
      "overflow_y": null,
      "padding": null,
      "right": null,
      "top": null,
      "visibility": null,
      "width": null
     }
    },
    "9ddf0111933f4c6a902c166c503386fe": {
     "model_module": "@jupyter-widgets/controls",
     "model_module_version": "1.5.0",
     "model_name": "HTMLModel",
     "state": {
      "_dom_classes": [],
      "_model_module": "@jupyter-widgets/controls",
      "_model_module_version": "1.5.0",
      "_model_name": "HTMLModel",
      "_view_count": null,
      "_view_module": "@jupyter-widgets/controls",
      "_view_module_version": "1.5.0",
      "_view_name": "HTMLView",
      "description": "",
      "description_tooltip": null,
      "layout": "IPY_MODEL_f39077dab5834f288bd24ddf000c8a49",
      "placeholder": "​",
      "style": "IPY_MODEL_712be75c78f74897b24828b049ca6ec0",
      "value": " 11314/11314 [04:01&lt;00:00, 53.30it/s]"
     }
    },
    "a93826fdf5ca424993148d0aca838e37": {
     "model_module": "@jupyter-widgets/controls",
     "model_module_version": "1.5.0",
     "model_name": "ProgressStyleModel",
     "state": {
      "_model_module": "@jupyter-widgets/controls",
      "_model_module_version": "1.5.0",
      "_model_name": "ProgressStyleModel",
      "_view_count": null,
      "_view_module": "@jupyter-widgets/base",
      "_view_module_version": "1.2.0",
      "_view_name": "StyleView",
      "bar_color": null,
      "description_width": ""
     }
    },
    "ac128a8d3add4a348fe7fb60ca6778e2": {
     "model_module": "@jupyter-widgets/controls",
     "model_module_version": "1.5.0",
     "model_name": "HTMLModel",
     "state": {
      "_dom_classes": [],
      "_model_module": "@jupyter-widgets/controls",
      "_model_module_version": "1.5.0",
      "_model_name": "HTMLModel",
      "_view_count": null,
      "_view_module": "@jupyter-widgets/controls",
      "_view_module_version": "1.5.0",
      "_view_name": "HTMLView",
      "description": "",
      "description_tooltip": null,
      "layout": "IPY_MODEL_ac786aba88564f1fb0c2eeeddd4979bd",
      "placeholder": "​",
      "style": "IPY_MODEL_72722408e2c14e2989b0783641cfa634",
      "value": "  0%"
     }
    },
    "ac786aba88564f1fb0c2eeeddd4979bd": {
     "model_module": "@jupyter-widgets/base",
     "model_module_version": "1.2.0",
     "model_name": "LayoutModel",
     "state": {
      "_model_module": "@jupyter-widgets/base",
      "_model_module_version": "1.2.0",
      "_model_name": "LayoutModel",
      "_view_count": null,
      "_view_module": "@jupyter-widgets/base",
      "_view_module_version": "1.2.0",
      "_view_name": "LayoutView",
      "align_content": null,
      "align_items": null,
      "align_self": null,
      "border": null,
      "bottom": null,
      "display": null,
      "flex": null,
      "flex_flow": null,
      "grid_area": null,
      "grid_auto_columns": null,
      "grid_auto_flow": null,
      "grid_auto_rows": null,
      "grid_column": null,
      "grid_gap": null,
      "grid_row": null,
      "grid_template_areas": null,
      "grid_template_columns": null,
      "grid_template_rows": null,
      "height": null,
      "justify_content": null,
      "justify_items": null,
      "left": null,
      "margin": null,
      "max_height": null,
      "max_width": null,
      "min_height": null,
      "min_width": null,
      "object_fit": null,
      "object_position": null,
      "order": null,
      "overflow": null,
      "overflow_x": null,
      "overflow_y": null,
      "padding": null,
      "right": null,
      "top": null,
      "visibility": null,
      "width": null
     }
    },
    "b943111d270d4d87afa22dff0639c681": {
     "model_module": "@jupyter-widgets/controls",
     "model_module_version": "1.5.0",
     "model_name": "FloatProgressModel",
     "state": {
      "_dom_classes": [],
      "_model_module": "@jupyter-widgets/controls",
      "_model_module_version": "1.5.0",
      "_model_name": "FloatProgressModel",
      "_view_count": null,
      "_view_module": "@jupyter-widgets/controls",
      "_view_module_version": "1.5.0",
      "_view_name": "ProgressView",
      "bar_style": "",
      "description": "",
      "description_tooltip": null,
      "layout": "IPY_MODEL_0f128e24f8014b6a9f61c0d74ee863d5",
      "max": 100,
      "min": 0,
      "orientation": "horizontal",
      "style": "IPY_MODEL_d227a993e1bf433eb0cb4c5b1fbc3987",
      "value": 0
     }
    },
    "c58906043da34b89b6c64d01a4c4a2a0": {
     "model_module": "@jupyter-widgets/controls",
     "model_module_version": "1.5.0",
     "model_name": "DescriptionStyleModel",
     "state": {
      "_model_module": "@jupyter-widgets/controls",
      "_model_module_version": "1.5.0",
      "_model_name": "DescriptionStyleModel",
      "_view_count": null,
      "_view_module": "@jupyter-widgets/base",
      "_view_module_version": "1.2.0",
      "_view_name": "StyleView",
      "description_width": ""
     }
    },
    "d227a993e1bf433eb0cb4c5b1fbc3987": {
     "model_module": "@jupyter-widgets/controls",
     "model_module_version": "1.5.0",
     "model_name": "ProgressStyleModel",
     "state": {
      "_model_module": "@jupyter-widgets/controls",
      "_model_module_version": "1.5.0",
      "_model_name": "ProgressStyleModel",
      "_view_count": null,
      "_view_module": "@jupyter-widgets/base",
      "_view_module_version": "1.2.0",
      "_view_name": "StyleView",
      "bar_color": null,
      "description_width": ""
     }
    },
    "e16e373ab2ec442a87b973cd4e19a896": {
     "model_module": "@jupyter-widgets/controls",
     "model_module_version": "1.5.0",
     "model_name": "HBoxModel",
     "state": {
      "_dom_classes": [],
      "_model_module": "@jupyter-widgets/controls",
      "_model_module_version": "1.5.0",
      "_model_name": "HBoxModel",
      "_view_count": null,
      "_view_module": "@jupyter-widgets/controls",
      "_view_module_version": "1.5.0",
      "_view_name": "HBoxView",
      "box_style": "",
      "children": [
       "IPY_MODEL_82f28765ca1447a0ab35832fb63e462f",
       "IPY_MODEL_8273c20ea1514115a41b448ecd38b571",
       "IPY_MODEL_83d83bf1eb9f44aab77ed530dc7f5be1"
      ],
      "layout": "IPY_MODEL_93dcb0caf0bc4440af507772f5177c98"
     }
    },
    "ed86546b42464d5ea773d845bff9db28": {
     "model_module": "@jupyter-widgets/controls",
     "model_module_version": "1.5.0",
     "model_name": "DescriptionStyleModel",
     "state": {
      "_model_module": "@jupyter-widgets/controls",
      "_model_module_version": "1.5.0",
      "_model_name": "DescriptionStyleModel",
      "_view_count": null,
      "_view_module": "@jupyter-widgets/base",
      "_view_module_version": "1.2.0",
      "_view_name": "StyleView",
      "description_width": ""
     }
    },
    "f39077dab5834f288bd24ddf000c8a49": {
     "model_module": "@jupyter-widgets/base",
     "model_module_version": "1.2.0",
     "model_name": "LayoutModel",
     "state": {
      "_model_module": "@jupyter-widgets/base",
      "_model_module_version": "1.2.0",
      "_model_name": "LayoutModel",
      "_view_count": null,
      "_view_module": "@jupyter-widgets/base",
      "_view_module_version": "1.2.0",
      "_view_name": "LayoutView",
      "align_content": null,
      "align_items": null,
      "align_self": null,
      "border": null,
      "bottom": null,
      "display": null,
      "flex": null,
      "flex_flow": null,
      "grid_area": null,
      "grid_auto_columns": null,
      "grid_auto_flow": null,
      "grid_auto_rows": null,
      "grid_column": null,
      "grid_gap": null,
      "grid_row": null,
      "grid_template_areas": null,
      "grid_template_columns": null,
      "grid_template_rows": null,
      "height": null,
      "justify_content": null,
      "justify_items": null,
      "left": null,
      "margin": null,
      "max_height": null,
      "max_width": null,
      "min_height": null,
      "min_width": null,
      "object_fit": null,
      "object_position": null,
      "order": null,
      "overflow": null,
      "overflow_x": null,
      "overflow_y": null,
      "padding": null,
      "right": null,
      "top": null,
      "visibility": null,
      "width": null
     }
    }
   }
  }
 },
 "nbformat": 4,
 "nbformat_minor": 5
}
