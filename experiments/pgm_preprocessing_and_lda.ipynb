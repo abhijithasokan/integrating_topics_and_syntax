{
  "cells": [
    {
      "cell_type": "markdown",
      "metadata": {
        "id": "e128e5aa"
      },
      "source": [
        "# PGM Exercise - Preprocessing the training data"
      ],
      "id": "e128e5aa"
    },
    {
      "cell_type": "markdown",
      "metadata": {
        "id": "e7017f5b"
      },
      "source": [
        "### Setup\n",
        "Uncomment and run the below block for the first time, to install the required packages"
      ],
      "id": "e7017f5b"
    },
    {
      "cell_type": "code",
      "execution_count": null,
      "metadata": {
        "id": "df35b3a6"
      },
      "outputs": [],
      "source": [
        "#!conda install -c conda-forge scikit-learn -y\n",
        "#!conda install spacy -y\n",
        "#!conda install tqdm -y\n",
        "#!conda install pandas -y\n",
        "#!python -m spacy download en_core_web_sm"
      ],
      "id": "df35b3a6"
    },
    {
      "cell_type": "code",
      "execution_count": null,
      "metadata": {
        "id": "8bdf831b"
      },
      "outputs": [],
      "source": [
        "from sklearn.datasets import fetch_20newsgroups\n",
        "import spacy\n",
        "import tqdm\n",
        "from collections import Counter\n",
        "import pandas as pd\n",
        "import re"
      ],
      "id": "8bdf831b"
    },
    {
      "cell_type": "code",
      "execution_count": null,
      "metadata": {
        "colab": {
          "base_uri": "https://localhost:8080/"
        },
        "id": "442768a4",
        "outputId": "449d4e1e-7ca4-4184-f229-5a9e20f31ff9"
      },
      "outputs": [
        {
          "name": "stdout",
          "output_type": "stream",
          "text": [
            "Number of docs: 11314\n"
          ]
        }
      ],
      "source": [
        "data = fetch_20newsgroups(subset=\"train\", remove=('headers', 'footers', 'quotes'))\n",
        "nlp = spacy.load(\"en_core_web_sm\")\n",
        "\n",
        "print('Number of docs:', len(data.data))"
      ],
      "id": "442768a4"
    },
    {
      "cell_type": "markdown",
      "metadata": {
        "id": "1d56c08b"
      },
      "source": [
        "## Convert docs to list of tokens"
      ],
      "id": "1d56c08b"
    },
    {
      "cell_type": "code",
      "execution_count": null,
      "metadata": {
        "colab": {
          "base_uri": "https://localhost:8080/",
          "height": 104,
          "referenced_widgets": [
            "e8f28deec5a04070a96fe5c60fe15026",
            "6dbc850b6ad6441db357a60c8216f045",
            "7fc5bc83953745c181e1021fafa14269",
            "925627123280451f914189ea8af8853a",
            "4517adb07a3b4a889d5f1ad5e3d5f326",
            "493de7acc642440cb7fdf0c238651ab2",
            "a9655df6068f495186fe9e6267b25be5",
            "ca9cf8e9040746b8b11619ab0bb4a1cd",
            "64cf54e96bbf4e7ba83b3ec8f31b5690",
            "94ab41153b5a440ebd9581eb20288f4a",
            "4de2ee8414e84194ae34e3e788637f90"
          ]
        },
        "id": "01ec82ac",
        "outputId": "8c5e952c-4d0d-4315-ac16-862f10f2746b"
      },
      "outputs": [
        {
          "name": "stderr",
          "output_type": "stream",
          "text": [
            "<ipython-input-4-1b81c784b61d>:8: TqdmDeprecationWarning: This function will be removed in tqdm==5.0.0\n",
            "Please use `tqdm.notebook.tqdm` instead of `tqdm.tqdm_notebook`\n",
            "  for udoc in tqdm.tqdm_notebook(nlp.pipe(unprocessed_docs, batch_size=64), total=len(unprocessed_docs)):\n"
          ]
        },
        {
          "data": {
            "application/vnd.jupyter.widget-view+json": {
              "model_id": "e8f28deec5a04070a96fe5c60fe15026",
              "version_major": 2,
              "version_minor": 0
            },
            "text/plain": [
              "  0%|          | 0/11314 [00:00<?, ?it/s]"
            ]
          },
          "metadata": {},
          "output_type": "display_data"
        }
      ],
      "source": [
        "unprocessed_docs = data['data']\n",
        "def pre_process_docs_before_vocab(unprocessed_docs):\n",
        "    docs = []\n",
        "    patterns_and_replacements = {\n",
        "        '<EMAIL>' : re.compile(r'^[\\w\\.-]+@[\\w\\.-]+\\.\\w+$')\n",
        "    }\n",
        "\n",
        "    for udoc in tqdm.tqdm_notebook(nlp.pipe(unprocessed_docs, batch_size=64), total=len(unprocessed_docs)):\n",
        "        doc = []\n",
        "        for token in udoc:\n",
        "            if token.is_alpha:\n",
        "                doc.append(token.text.lower())\n",
        "            elif token.is_punct:\n",
        "                # since punctuation would be one of the syntactic classes\n",
        "                doc.append(token.text[0]) # why just text[0]? to handle cases like '!!!' or '...'\n",
        "            elif token.is_space:\n",
        "                # all space char including '\\n' provides no meaning\n",
        "                continue\n",
        "            elif token.is_digit:\n",
        "                doc.append('<NUM>')\n",
        "            elif token.is_currency:\n",
        "                doc.append('<CUR>')\n",
        "            else:\n",
        "                for replacement, pattern in patterns_and_replacements.items():\n",
        "                    if pattern.match(token.text):\n",
        "                        doc.append(replacement)\n",
        "                        break\n",
        "                else:\n",
        "                    doc.append('<UNK>')\n",
        "        docs.append(doc)\n",
        "    return docs\n",
        "\n",
        "docs = pre_process_docs_before_vocab(unprocessed_docs)"
      ],
      "id": "01ec82ac"
    },
    {
      "cell_type": "markdown",
      "metadata": {
        "id": "eae5dd70"
      },
      "source": [
        "## Build vocabulary\n",
        "\n",
        "We will also remove the words that occur only once, since there is a good chance that those are typos"
      ],
      "id": "eae5dd70"
    },
    {
      "cell_type": "code",
      "execution_count": null,
      "metadata": {
        "colab": {
          "base_uri": "https://localhost:8080/",
          "height": 104,
          "referenced_widgets": [
            "653b1447df51446895dbff1af96b33e8",
            "82a61f0be4404614bb3bec3735af309c",
            "c2b9bc9946c94d2db1caa216f6c126f2",
            "2e4c0a9424ae4202b935267d293e24a0",
            "c97b019c0a894a3ca8c83e7ccc13606c",
            "616d1cc1a16b4bdbb8855c90b14df0b6",
            "c69f62f5ae7849c9a52e0adca30c8733",
            "d5040f7e5238490c99ffb95977c033b6",
            "236fe744cc5246118608b5a1e19993e0",
            "0f1e73e17da54e8facf8fbdef7379198",
            "e1afc8e77d274ff9ba79526a8a60d146"
          ]
        },
        "id": "80a855e3",
        "outputId": "2665ddee-52f0-4297-a7eb-70d77f42cf9d"
      },
      "outputs": [
        {
          "name": "stderr",
          "output_type": "stream",
          "text": [
            "<ipython-input-5-115373cf66e0>:3: TqdmDeprecationWarning: This function will be removed in tqdm==5.0.0\n",
            "Please use `tqdm.notebook.tqdm` instead of `tqdm.tqdm_notebook`\n",
            "  for doc in tqdm.tqdm_notebook(docs):\n"
          ]
        },
        {
          "data": {
            "application/vnd.jupyter.widget-view+json": {
              "model_id": "653b1447df51446895dbff1af96b33e8",
              "version_major": 2,
              "version_minor": 0
            },
            "text/plain": [
              "  0%|          | 0/11314 [00:00<?, ?it/s]"
            ]
          },
          "metadata": {},
          "output_type": "display_data"
        }
      ],
      "source": [
        "def build_vocab(docs, rare_words_threshold):\n",
        "    vocab = Counter()\n",
        "    for doc in tqdm.tqdm_notebook(docs):\n",
        "        vocab.update(doc)\n",
        "\n",
        "    # ignore words that are rare\n",
        "    vocab = Counter({key: count for key, count in vocab.items() if count > rare_words_threshold})\n",
        "    return vocab\n",
        "\n",
        "vocab = build_vocab(docs, rare_words_threshold=1)"
      ],
      "id": "80a855e3"
    },
    {
      "cell_type": "code",
      "execution_count": null,
      "metadata": {
        "id": "9b265be3"
      },
      "outputs": [],
      "source": [
        "def remove_out_of_vocab_tokens(docs, vocab):\n",
        "    oov_count = 0\n",
        "    for doc in docs:\n",
        "        for ind, token in enumerate(doc):\n",
        "            if token not in vocab:\n",
        "                doc[ind] = '<OOV>'\n",
        "                print(\"YES\")\n",
        "                oov_count += 1\n",
        "    vocab['<OOV>'] = oov_count\n",
        "    return docs, vocab\n",
        "\n",
        "\n",
        "docs, vocab = remove_out_of_vocab_tokens(docs, vocab)"
      ],
      "id": "9b265be3"
    },
    {
      "cell_type": "markdown",
      "metadata": {
        "id": "45627104"
      },
      "source": [
        "## View the processed data"
      ],
      "id": "45627104"
    },
    {
      "cell_type": "code",
      "execution_count": null,
      "metadata": {
        "id": "881b8ccd"
      },
      "outputs": [],
      "source": [
        "def compare_text_after_pre_processing(index, orig_docs, pre_processed_docs):\n",
        "    print(\"------- Original -------\")\n",
        "    print(orig_docs[index])\n",
        "    print(\"\\n\\n\\n------- After preprocessing -------\")\n",
        "    print(' '.join(pre_processed_docs[index]))\n",
        "\n",
        "print(\"Vocab size: \", len(vocab))\n",
        "print(\"\\n\\nExample after preprocessing\")\n",
        "compare_text_after_pre_processing(index=0, orig_docs=data['data'], pre_processed_docs=docs)\n",
        "\n",
        "\n",
        "\n",
        "\n",
        "\n",
        "most_common = vocab.most_common()[:30]\n",
        "least_common = vocab.most_common()[-30:]\n",
        "\n",
        "print(\"\\n\\n\\n------- MOST COMMON ITEMS IN VOCAB -------\")\n",
        "print(pd.DataFrame(most_common, columns=['Word', 'Count']))\n",
        "\n",
        "\n",
        "print(\"\\n\\n\\n------- Least COMMON ITEMS IN VOCAB -------\")\n",
        "print(pd.DataFrame(least_common[::-1], columns=['Word', 'Count']))"
      ],
      "id": "881b8ccd"
    },
    {
      "cell_type": "code",
      "execution_count": null,
      "metadata": {
        "id": "eIyvA5S3rSWz"
      },
      "outputs": [],
      "source": [
        "processed_docs = []\n",
        "words = list(vocab.keys())\n",
        "for doc in docs:\n",
        "  doc_words = []\n",
        "  for word in doc:\n",
        "    word_idx = words.index(word)\n",
        "    doc_words.append(word_idx)\n",
        "  processed_docs.append(doc_words)\n",
        "\n",
        "\n"
      ],
      "id": "eIyvA5S3rSWz"
    },
    {
      "cell_type": "code",
      "execution_count": null,
      "metadata": {
        "id": "84d2f24f"
      },
      "outputs": [],
      "source": [
        "import numpy as np\n",
        "\n",
        "M = len(docs)\n",
        "N = len(vocab)\n",
        "T = 10\n",
        "C = 5\n",
        "\n",
        "alpha = 1 / T\n",
        "beta = 1 / T\n",
        "delta = 1 / C\n",
        "\n",
        "theta_d_z = np.zeros((M, T))\n",
        "phi_z_w = np.zeros((T, N))\n",
        "phi_c_w = np.zeros((C, N))\n",
        "z_d_i = [[0 for _ in range(len(doc))] for doc in docs]\n",
        "\n",
        "i_d = np.zeros((M))\n",
        "i_z = np.zeros((T))"
      ],
      "id": "84d2f24f"
    },
    {
      "cell_type": "code",
      "execution_count": null,
      "metadata": {
        "id": "741efed6"
      },
      "outputs": [],
      "source": [
        "for d, doc in enumerate(processed_docs):\n",
        "  for i, word in enumerate(doc):\n",
        "    z_d_i[d][i] = i % T\n",
        "    z = z_d_i[d][i]\n",
        "    theta_d_z[d][z] += 1\n",
        "    phi_z_w[z, word] += 1\n",
        "    i_z[z] += 1\n",
        "    i_d[d] += 1\n"
      ],
      "id": "741efed6"
    },
    {
      "cell_type": "code",
      "execution_count": null,
      "metadata": {
        "colab": {
          "base_uri": "https://localhost:8080/"
        },
        "id": "5ej-UIKa6odf",
        "outputId": "039fb9b0-de44-406d-8be5-b73aacb0e727"
      },
      "outputs": [
        {
          "name": "stdout",
          "output_type": "stream",
          "text": [
            "[[11. 11. 11. ... 11. 11. 11.]\n",
            " [11. 11. 10. ... 10. 10. 10.]\n",
            " [36. 36. 36. ... 35. 35. 35.]\n",
            " ...\n",
            " [13. 13. 13. ... 12. 12. 12.]\n",
            " [ 8.  8.  8. ...  7.  7.  7.]\n",
            " [ 7.  7.  6. ...  6.  6.  6.]]\n"
          ]
        }
      ],
      "source": [
        "print(theta_d_z)"
      ],
      "id": "5ej-UIKa6odf"
    },
    {
      "cell_type": "code",
      "execution_count": null,
      "metadata": {
        "colab": {
          "background_save": true,
          "base_uri": "https://localhost:8080/",
          "height": 49,
          "referenced_widgets": [
            "630fc306c6ea4e7d942522c5d1a0d9f6",
            "45604d9093f34d509eafc1f6ec94f02a",
            "8e76c1ba0472482c8589adf424ef8739",
            "77f9b55cb1ae4dc1ab0d0a8b1522c2d3",
            "281ab7e70278474b9186995ef99c3bb6",
            "ea463e279237461eb66e7cb7eec5306f",
            "c346d6e1bead47d7947324f05d95fc23",
            "a362cceb4d8340109f8f89dacf6061b5",
            "b9aa1e0d0533453abf88cac9bba4665a",
            "08c2819cb8af49c28471c3a126d6745b",
            "bb848be1393c419ca94d50177c96e5bd"
          ]
        },
        "id": "JwkDdgln2a_K",
        "outputId": "c5cbf492-30a7-436a-edaf-63ebafc6c6e1"
      },
      "outputs": [
        {
          "data": {
            "application/vnd.jupyter.widget-view+json": {
              "model_id": "630fc306c6ea4e7d942522c5d1a0d9f6",
              "version_major": 2,
              "version_minor": 0
            },
            "text/plain": [
              "  0%|          | 0/10 [00:00<?, ?it/s]"
            ]
          },
          "metadata": {},
          "output_type": "display_data"
        }
      ],
      "source": [
        "from tqdm.notebook import tqdm\n",
        "\n",
        "\n",
        "iterations_num = 10\n",
        "\n",
        "for iteration in tqdm(range(iterations_num)):\n",
        "  for d, doc in enumerate(processed_docs):\n",
        "    for i, word in enumerate(doc):\n",
        "      z = z_d_i[d][i] # get the topc for word w_i in document doc\n",
        "\n",
        "      # decrement counts for word word with associated topic z\n",
        "      theta_d_z[d][z] -= 1\n",
        "      phi_z_w[z, word] -= 1\n",
        "      i_z[z] -= 1\n",
        "\n",
        "      # sample new topic form a multinomial according to the formula\n",
        "      p_d_t = (theta_d_z[d] + alpha) / (i_d[d] + T * alpha)\n",
        "      p_t_w = (phi_z_w[:, word] + beta) / (i_z + N * beta + 1e9)\n",
        "      p_z = p_d_t * p_t_w\n",
        "      p_z /= np.sum(p_z)\n",
        "      new_z = np.random.multinomial(1, p_z).argmax()\n",
        "\n",
        "      # set z as the new topic and increment counts\n",
        "      z_d_i[d][i] = new_z\n",
        "      theta_d_z[d][new_z] += 1\n",
        "      phi_z_w[new_z, word] += 1\n",
        "      i_z[new_z] += 1\n",
        "\n",
        "\n"
      ],
      "id": "JwkDdgln2a_K"
    },
    {
      "cell_type": "code",
      "source": [
        "import matplotlib.pyplot as plt\n",
        "\n",
        "i = 1\n",
        "plt.plot(theta_d_z[i]/ sum(theta_d_z[i]));\n",
        "plt.title(\"Topic distribution $theta_i$ for document {}\".format(i));"
      ],
      "metadata": {
        "colab": {
          "base_uri": "https://localhost:8080/",
          "height": 454
        },
        "id": "apzVhmw0FKu2",
        "outputId": "451a5d23-ba50-4813-a4c0-bf62621f2979"
      },
      "id": "apzVhmw0FKu2",
      "execution_count": 44,
      "outputs": [
        {
          "output_type": "display_data",
          "data": {
            "text/plain": [
              "<Figure size 640x480 with 1 Axes>"
            ],
            "image/png": "[encoded data removed]"
          },
          "metadata": {}
        }
      ]
    },
    {
      "cell_type": "code",
      "source": [
        "inv_vocabulary = {idx: w for idx, w in enumerate(words)}\n",
        "n_top_words = 10\n",
        "for topic_idx, topic in enumerate(phi_z_w):\n",
        "    message = \"Topic #%d: \" % topic_idx\n",
        "    message += \" \".join([inv_vocabulary[i] for i in topic.argsort()[:-n_top_words - 1:-1]])\n",
        "    print(message)"
      ],
      "metadata": {
        "colab": {
          "base_uri": "https://localhost:8080/"
        },
        "id": "gCk1N26qFY9W",
        "outputId": "859f7eaa-14f6-443d-a522-ce3177e25082"
      },
      "id": "gCk1N26qFY9W",
      "execution_count": 46,
      "outputs": [
        {
          "output_type": "stream",
          "name": "stdout",
          "text": [
            "Topic #0: sanjay <OOV> perusal critique dig surviving artifacts deposit immortality distributing\n",
            "Topic #1: <UNK> . the , <NUM> to of a and -\n",
            "Topic #2: deflation disastrous <OOV> deposit closes critique dig surviving artifacts perusal\n",
            "Topic #3: incidentally <OOV> artifacts dimension closes critique dig surviving deposit glowing\n",
            "Topic #4: antidepressants edsel <OOV> perusal surviving artifacts deposit immortality distributing critique\n",
            "Topic #5: sing yalanci speedisk dblspaced artifacts closes critique dig surviving immortality\n",
            "Topic #6: baseless slippers <OOV> deposit closes critique dig surviving artifacts immortality\n",
            "Topic #7: <OOV> alcoholic seemingly otis operative stimulate distributing perusal immortality deposit\n",
            "Topic #8: skinny <OOV> closes drinks seemingly otis operative stimulate distributing perusal\n",
            "Topic #9: homespun vauxhall coldest accompanying deposit closes critique dig surviving artifacts\n"
          ]
        }
      ]
    },
    {
      "cell_type": "code",
      "source": [],
      "metadata": {
        "id": "gMWDGuy7JYz2"
      },
      "id": "gMWDGuy7JYz2",
      "execution_count": null,
      "outputs": []
    }
  ],
  "metadata": {
    "colab": {
      "provenance": []
    },
    "kernelspec": {
      "display_name": "Python (integrating_topics_syntax)",
      "language": "python",
      "name": "integrating_topics_syntax"
    },
    "language_info": {
      "codemirror_mode": {
        "name": "ipython",
        "version": 3
      },
      "file_extension": ".py",
      "mimetype": "text/x-python",
      "name": "python",
      "nbconvert_exporter": "python",
      "pygments_lexer": "ipython3",
      "version": "3.11.4"
    },
    "widgets": {
      "application/vnd.jupyter.widget-state+json": {
        "08c2819cb8af49c28471c3a126d6745b": {
          "model_module": "@jupyter-widgets/base",
          "model_module_version": "1.2.0",
          "model_name": "LayoutModel",
          "state": {
            "_model_module": "@jupyter-widgets/base",
            "_model_module_version": "1.2.0",
            "_model_name": "LayoutModel",
            "_view_count": null,
            "_view_module": "@jupyter-widgets/base",
            "_view_module_version": "1.2.0",
            "_view_name": "LayoutView",
            "align_content": null,
            "align_items": null,
            "align_self": null,
            "border": null,
            "bottom": null,
            "display": null,
            "flex": null,
            "flex_flow": null,
            "grid_area": null,
            "grid_auto_columns": null,
            "grid_auto_flow": null,
            "grid_auto_rows": null,
            "grid_column": null,
            "grid_gap": null,
            "grid_row": null,
            "grid_template_areas": null,
            "grid_template_columns": null,
            "grid_template_rows": null,
            "height": null,
            "justify_content": null,
            "justify_items": null,
            "left": null,
            "margin": null,
            "max_height": null,
            "max_width": null,
            "min_height": null,
            "min_width": null,
            "object_fit": null,
            "object_position": null,
            "order": null,
            "overflow": null,
            "overflow_x": null,
            "overflow_y": null,
            "padding": null,
            "right": null,
            "top": null,
            "visibility": null,
            "width": null
          }
        },
        "0f1e73e17da54e8facf8fbdef7379198": {
          "model_module": "@jupyter-widgets/base",
          "model_module_version": "1.2.0",
          "model_name": "LayoutModel",
          "state": {
            "_model_module": "@jupyter-widgets/base",
            "_model_module_version": "1.2.0",
            "_model_name": "LayoutModel",
            "_view_count": null,
            "_view_module": "@jupyter-widgets/base",
            "_view_module_version": "1.2.0",
            "_view_name": "LayoutView",
            "align_content": null,
            "align_items": null,
            "align_self": null,
            "border": null,
            "bottom": null,
            "display": null,
            "flex": null,
            "flex_flow": null,
            "grid_area": null,
            "grid_auto_columns": null,
            "grid_auto_flow": null,
            "grid_auto_rows": null,
            "grid_column": null,
            "grid_gap": null,
            "grid_row": null,
            "grid_template_areas": null,
            "grid_template_columns": null,
            "grid_template_rows": null,
            "height": null,
            "justify_content": null,
            "justify_items": null,
            "left": null,
            "margin": null,
            "max_height": null,
            "max_width": null,
            "min_height": null,
            "min_width": null,
            "object_fit": null,
            "object_position": null,
            "order": null,
            "overflow": null,
            "overflow_x": null,
            "overflow_y": null,
            "padding": null,
            "right": null,
            "top": null,
            "visibility": null,
            "width": null
          }
        },
        "236fe744cc5246118608b5a1e19993e0": {
          "model_module": "@jupyter-widgets/controls",
          "model_module_version": "1.5.0",
          "model_name": "ProgressStyleModel",
          "state": {
            "_model_module": "@jupyter-widgets/controls",
            "_model_module_version": "1.5.0",
            "_model_name": "ProgressStyleModel",
            "_view_count": null,
            "_view_module": "@jupyter-widgets/base",
            "_view_module_version": "1.2.0",
            "_view_name": "StyleView",
            "bar_color": null,
            "description_width": ""
          }
        },
        "281ab7e70278474b9186995ef99c3bb6": {
          "model_module": "@jupyter-widgets/base",
          "model_module_version": "1.2.0",
          "model_name": "LayoutModel",
          "state": {
            "_model_module": "@jupyter-widgets/base",
            "_model_module_version": "1.2.0",
            "_model_name": "LayoutModel",
            "_view_count": null,
            "_view_module": "@jupyter-widgets/base",
            "_view_module_version": "1.2.0",
            "_view_name": "LayoutView",
            "align_content": null,
            "align_items": null,
            "align_self": null,
            "border": null,
            "bottom": null,
            "display": null,
            "flex": null,
            "flex_flow": null,
            "grid_area": null,
            "grid_auto_columns": null,
            "grid_auto_flow": null,
            "grid_auto_rows": null,
            "grid_column": null,
            "grid_gap": null,
            "grid_row": null,
            "grid_template_areas": null,
            "grid_template_columns": null,
            "grid_template_rows": null,
            "height": null,
            "justify_content": null,
            "justify_items": null,
            "left": null,
            "margin": null,
            "max_height": null,
            "max_width": null,
            "min_height": null,
            "min_width": null,
            "object_fit": null,
            "object_position": null,
            "order": null,
            "overflow": null,
            "overflow_x": null,
            "overflow_y": null,
            "padding": null,
            "right": null,
            "top": null,
            "visibility": null,
            "width": null
          }
        },
        "2e4c0a9424ae4202b935267d293e24a0": {
          "model_module": "@jupyter-widgets/controls",
          "model_module_version": "1.5.0",
          "model_name": "HTMLModel",
          "state": {
            "_dom_classes": [],
            "_model_module": "@jupyter-widgets/controls",
            "_model_module_version": "1.5.0",
            "_model_name": "HTMLModel",
            "_view_count": null,
            "_view_module": "@jupyter-widgets/controls",
            "_view_module_version": "1.5.0",
            "_view_name": "HTMLView",
            "description": "",
            "description_tooltip": null,
            "layout": "IPY_MODEL_0f1e73e17da54e8facf8fbdef7379198",
            "placeholder": "​",
            "style": "IPY_MODEL_e1afc8e77d274ff9ba79526a8a60d146",
            "value": " 11314/11314 [00:00&lt;00:00, 15256.09it/s]"
          }
        },
        "4517adb07a3b4a889d5f1ad5e3d5f326": {
          "model_module": "@jupyter-widgets/base",
          "model_module_version": "1.2.0",
          "model_name": "LayoutModel",
          "state": {
            "_model_module": "@jupyter-widgets/base",
            "_model_module_version": "1.2.0",
            "_model_name": "LayoutModel",
            "_view_count": null,
            "_view_module": "@jupyter-widgets/base",
            "_view_module_version": "1.2.0",
            "_view_name": "LayoutView",
            "align_content": null,
            "align_items": null,
            "align_self": null,
            "border": null,
            "bottom": null,
            "display": null,
            "flex": null,
            "flex_flow": null,
            "grid_area": null,
            "grid_auto_columns": null,
            "grid_auto_flow": null,
            "grid_auto_rows": null,
            "grid_column": null,
            "grid_gap": null,
            "grid_row": null,
            "grid_template_areas": null,
            "grid_template_columns": null,
            "grid_template_rows": null,
            "height": null,
            "justify_content": null,
            "justify_items": null,
            "left": null,
            "margin": null,
            "max_height": null,
            "max_width": null,
            "min_height": null,
            "min_width": null,
            "object_fit": null,
            "object_position": null,
            "order": null,
            "overflow": null,
            "overflow_x": null,
            "overflow_y": null,
            "padding": null,
            "right": null,
            "top": null,
            "visibility": null,
            "width": null
          }
        },
        "45604d9093f34d509eafc1f6ec94f02a": {
          "model_module": "@jupyter-widgets/controls",
          "model_module_version": "1.5.0",
          "model_name": "HTMLModel",
          "state": {
            "_dom_classes": [],
            "_model_module": "@jupyter-widgets/controls",
            "_model_module_version": "1.5.0",
            "_model_name": "HTMLModel",
            "_view_count": null,
            "_view_module": "@jupyter-widgets/controls",
            "_view_module_version": "1.5.0",
            "_view_name": "HTMLView",
            "description": "",
            "description_tooltip": null,
            "layout": "IPY_MODEL_ea463e279237461eb66e7cb7eec5306f",
            "placeholder": "​",
            "style": "IPY_MODEL_c346d6e1bead47d7947324f05d95fc23",
            "value": "  0%"
          }
        },
        "493de7acc642440cb7fdf0c238651ab2": {
          "model_module": "@jupyter-widgets/base",
          "model_module_version": "1.2.0",
          "model_name": "LayoutModel",
          "state": {
            "_model_module": "@jupyter-widgets/base",
            "_model_module_version": "1.2.0",
            "_model_name": "LayoutModel",
            "_view_count": null,
            "_view_module": "@jupyter-widgets/base",
            "_view_module_version": "1.2.0",
            "_view_name": "LayoutView",
            "align_content": null,
            "align_items": null,
            "align_self": null,
            "border": null,
            "bottom": null,
            "display": null,
            "flex": null,
            "flex_flow": null,
            "grid_area": null,
            "grid_auto_columns": null,
            "grid_auto_flow": null,
            "grid_auto_rows": null,
            "grid_column": null,
            "grid_gap": null,
            "grid_row": null,
            "grid_template_areas": null,
            "grid_template_columns": null,
            "grid_template_rows": null,
            "height": null,
            "justify_content": null,
            "justify_items": null,
            "left": null,
            "margin": null,
            "max_height": null,
            "max_width": null,
            "min_height": null,
            "min_width": null,
            "object_fit": null,
            "object_position": null,
            "order": null,
            "overflow": null,
            "overflow_x": null,
            "overflow_y": null,
            "padding": null,
            "right": null,
            "top": null,
            "visibility": null,
            "width": null
          }
        },
        "4de2ee8414e84194ae34e3e788637f90": {
          "model_module": "@jupyter-widgets/controls",
          "model_module_version": "1.5.0",
          "model_name": "DescriptionStyleModel",
          "state": {
            "_model_module": "@jupyter-widgets/controls",
            "_model_module_version": "1.5.0",
            "_model_name": "DescriptionStyleModel",
            "_view_count": null,
            "_view_module": "@jupyter-widgets/base",
            "_view_module_version": "1.2.0",
            "_view_name": "StyleView",
            "description_width": ""
          }
        },
        "616d1cc1a16b4bdbb8855c90b14df0b6": {
          "model_module": "@jupyter-widgets/base",
          "model_module_version": "1.2.0",
          "model_name": "LayoutModel",
          "state": {
            "_model_module": "@jupyter-widgets/base",
            "_model_module_version": "1.2.0",
            "_model_name": "LayoutModel",
            "_view_count": null,
            "_view_module": "@jupyter-widgets/base",
            "_view_module_version": "1.2.0",
            "_view_name": "LayoutView",
            "align_content": null,
            "align_items": null,
            "align_self": null,
            "border": null,
            "bottom": null,
            "display": null,
            "flex": null,
            "flex_flow": null,
            "grid_area": null,
            "grid_auto_columns": null,
            "grid_auto_flow": null,
            "grid_auto_rows": null,
            "grid_column": null,
            "grid_gap": null,
            "grid_row": null,
            "grid_template_areas": null,
            "grid_template_columns": null,
            "grid_template_rows": null,
            "height": null,
            "justify_content": null,
            "justify_items": null,
            "left": null,
            "margin": null,
            "max_height": null,
            "max_width": null,
            "min_height": null,
            "min_width": null,
            "object_fit": null,
            "object_position": null,
            "order": null,
            "overflow": null,
            "overflow_x": null,
            "overflow_y": null,
            "padding": null,
            "right": null,
            "top": null,
            "visibility": null,
            "width": null
          }
        },
        "630fc306c6ea4e7d942522c5d1a0d9f6": {
          "model_module": "@jupyter-widgets/controls",
          "model_module_version": "1.5.0",
          "model_name": "HBoxModel",
          "state": {
            "_dom_classes": [],
            "_model_module": "@jupyter-widgets/controls",
            "_model_module_version": "1.5.0",
            "_model_name": "HBoxModel",
            "_view_count": null,
            "_view_module": "@jupyter-widgets/controls",
            "_view_module_version": "1.5.0",
            "_view_name": "HBoxView",
            "box_style": "",
            "children": [
              "IPY_MODEL_45604d9093f34d509eafc1f6ec94f02a",
              "IPY_MODEL_8e76c1ba0472482c8589adf424ef8739",
              "IPY_MODEL_77f9b55cb1ae4dc1ab0d0a8b1522c2d3"
            ],
            "layout": "IPY_MODEL_281ab7e70278474b9186995ef99c3bb6"
          }
        },
        "64cf54e96bbf4e7ba83b3ec8f31b5690": {
          "model_module": "@jupyter-widgets/controls",
          "model_module_version": "1.5.0",
          "model_name": "ProgressStyleModel",
          "state": {
            "_model_module": "@jupyter-widgets/controls",
            "_model_module_version": "1.5.0",
            "_model_name": "ProgressStyleModel",
            "_view_count": null,
            "_view_module": "@jupyter-widgets/base",
            "_view_module_version": "1.2.0",
            "_view_name": "StyleView",
            "bar_color": null,
            "description_width": ""
          }
        },
        "653b1447df51446895dbff1af96b33e8": {
          "model_module": "@jupyter-widgets/controls",
          "model_module_version": "1.5.0",
          "model_name": "HBoxModel",
          "state": {
            "_dom_classes": [],
            "_model_module": "@jupyter-widgets/controls",
            "_model_module_version": "1.5.0",
            "_model_name": "HBoxModel",
            "_view_count": null,
            "_view_module": "@jupyter-widgets/controls",
            "_view_module_version": "1.5.0",
            "_view_name": "HBoxView",
            "box_style": "",
            "children": [
              "IPY_MODEL_82a61f0be4404614bb3bec3735af309c",
              "IPY_MODEL_c2b9bc9946c94d2db1caa216f6c126f2",
              "IPY_MODEL_2e4c0a9424ae4202b935267d293e24a0"
            ],
            "layout": "IPY_MODEL_c97b019c0a894a3ca8c83e7ccc13606c"
          }
        },
        "6dbc850b6ad6441db357a60c8216f045": {
          "model_module": "@jupyter-widgets/controls",
          "model_module_version": "1.5.0",
          "model_name": "HTMLModel",
          "state": {
            "_dom_classes": [],
            "_model_module": "@jupyter-widgets/controls",
            "_model_module_version": "1.5.0",
            "_model_name": "HTMLModel",
            "_view_count": null,
            "_view_module": "@jupyter-widgets/controls",
            "_view_module_version": "1.5.0",
            "_view_name": "HTMLView",
            "description": "",
            "description_tooltip": null,
            "layout": "IPY_MODEL_493de7acc642440cb7fdf0c238651ab2",
            "placeholder": "​",
            "style": "IPY_MODEL_a9655df6068f495186fe9e6267b25be5",
            "value": "100%"
          }
        },
        "77f9b55cb1ae4dc1ab0d0a8b1522c2d3": {
          "model_module": "@jupyter-widgets/controls",
          "model_module_version": "1.5.0",
          "model_name": "HTMLModel",
          "state": {
            "_dom_classes": [],
            "_model_module": "@jupyter-widgets/controls",
            "_model_module_version": "1.5.0",
            "_model_name": "HTMLModel",
            "_view_count": null,
            "_view_module": "@jupyter-widgets/controls",
            "_view_module_version": "1.5.0",
            "_view_name": "HTMLView",
            "description": "",
            "description_tooltip": null,
            "layout": "IPY_MODEL_08c2819cb8af49c28471c3a126d6745b",
            "placeholder": "​",
            "style": "IPY_MODEL_bb848be1393c419ca94d50177c96e5bd",
            "value": " 0/10 [00:00&lt;?, ?it/s]"
          }
        },
        "7fc5bc83953745c181e1021fafa14269": {
          "model_module": "@jupyter-widgets/controls",
          "model_module_version": "1.5.0",
          "model_name": "FloatProgressModel",
          "state": {
            "_dom_classes": [],
            "_model_module": "@jupyter-widgets/controls",
            "_model_module_version": "1.5.0",
            "_model_name": "FloatProgressModel",
            "_view_count": null,
            "_view_module": "@jupyter-widgets/controls",
            "_view_module_version": "1.5.0",
            "_view_name": "ProgressView",
            "bar_style": "success",
            "description": "",
            "description_tooltip": null,
            "layout": "IPY_MODEL_ca9cf8e9040746b8b11619ab0bb4a1cd",
            "max": 11314,
            "min": 0,
            "orientation": "horizontal",
            "style": "IPY_MODEL_64cf54e96bbf4e7ba83b3ec8f31b5690",
            "value": 11314
          }
        },
        "82a61f0be4404614bb3bec3735af309c": {
          "model_module": "@jupyter-widgets/controls",
          "model_module_version": "1.5.0",
          "model_name": "HTMLModel",
          "state": {
            "_dom_classes": [],
            "_model_module": "@jupyter-widgets/controls",
            "_model_module_version": "1.5.0",
            "_model_name": "HTMLModel",
            "_view_count": null,
            "_view_module": "@jupyter-widgets/controls",
            "_view_module_version": "1.5.0",
            "_view_name": "HTMLView",
            "description": "",
            "description_tooltip": null,
            "layout": "IPY_MODEL_616d1cc1a16b4bdbb8855c90b14df0b6",
            "placeholder": "​",
            "style": "IPY_MODEL_c69f62f5ae7849c9a52e0adca30c8733",
            "value": "100%"
          }
        },
        "8e76c1ba0472482c8589adf424ef8739": {
          "model_module": "@jupyter-widgets/controls",
          "model_module_version": "1.5.0",
          "model_name": "FloatProgressModel",
          "state": {
            "_dom_classes": [],
            "_model_module": "@jupyter-widgets/controls",
            "_model_module_version": "1.5.0",
            "_model_name": "FloatProgressModel",
            "_view_count": null,
            "_view_module": "@jupyter-widgets/controls",
            "_view_module_version": "1.5.0",
            "_view_name": "ProgressView",
            "bar_style": "",
            "description": "",
            "description_tooltip": null,
            "layout": "IPY_MODEL_a362cceb4d8340109f8f89dacf6061b5",
            "max": 10,
            "min": 0,
            "orientation": "horizontal",
            "style": "IPY_MODEL_b9aa1e0d0533453abf88cac9bba4665a",
            "value": 0
          }
        },
        "925627123280451f914189ea8af8853a": {
          "model_module": "@jupyter-widgets/controls",
          "model_module_version": "1.5.0",
          "model_name": "HTMLModel",
          "state": {
            "_dom_classes": [],
            "_model_module": "@jupyter-widgets/controls",
            "_model_module_version": "1.5.0",
            "_model_name": "HTMLModel",
            "_view_count": null,
            "_view_module": "@jupyter-widgets/controls",
            "_view_module_version": "1.5.0",
            "_view_name": "HTMLView",
            "description": "",
            "description_tooltip": null,
            "layout": "IPY_MODEL_94ab41153b5a440ebd9581eb20288f4a",
            "placeholder": "​",
            "style": "IPY_MODEL_4de2ee8414e84194ae34e3e788637f90",
            "value": " 11314/11314 [07:17&lt;00:00, 30.78it/s]"
          }
        },
        "94ab41153b5a440ebd9581eb20288f4a": {
          "model_module": "@jupyter-widgets/base",
          "model_module_version": "1.2.0",
          "model_name": "LayoutModel",
          "state": {
            "_model_module": "@jupyter-widgets/base",
            "_model_module_version": "1.2.0",
            "_model_name": "LayoutModel",
            "_view_count": null,
            "_view_module": "@jupyter-widgets/base",
            "_view_module_version": "1.2.0",
            "_view_name": "LayoutView",
            "align_content": null,
            "align_items": null,
            "align_self": null,
            "border": null,
            "bottom": null,
            "display": null,
            "flex": null,
            "flex_flow": null,
            "grid_area": null,
            "grid_auto_columns": null,
            "grid_auto_flow": null,
            "grid_auto_rows": null,
            "grid_column": null,
            "grid_gap": null,
            "grid_row": null,
            "grid_template_areas": null,
            "grid_template_columns": null,
            "grid_template_rows": null,
            "height": null,
            "justify_content": null,
            "justify_items": null,
            "left": null,
            "margin": null,
            "max_height": null,
            "max_width": null,
            "min_height": null,
            "min_width": null,
            "object_fit": null,
            "object_position": null,
            "order": null,
            "overflow": null,
            "overflow_x": null,
            "overflow_y": null,
            "padding": null,
            "right": null,
            "top": null,
            "visibility": null,
            "width": null
          }
        },
        "a362cceb4d8340109f8f89dacf6061b5": {
          "model_module": "@jupyter-widgets/base",
          "model_module_version": "1.2.0",
          "model_name": "LayoutModel",
          "state": {
            "_model_module": "@jupyter-widgets/base",
            "_model_module_version": "1.2.0",
            "_model_name": "LayoutModel",
            "_view_count": null,
            "_view_module": "@jupyter-widgets/base",
            "_view_module_version": "1.2.0",
            "_view_name": "LayoutView",
            "align_content": null,
            "align_items": null,
            "align_self": null,
            "border": null,
            "bottom": null,
            "display": null,
            "flex": null,
            "flex_flow": null,
            "grid_area": null,
            "grid_auto_columns": null,
            "grid_auto_flow": null,
            "grid_auto_rows": null,
            "grid_column": null,
            "grid_gap": null,
            "grid_row": null,
            "grid_template_areas": null,
            "grid_template_columns": null,
            "grid_template_rows": null,
            "height": null,
            "justify_content": null,
            "justify_items": null,
            "left": null,
            "margin": null,
            "max_height": null,
            "max_width": null,
            "min_height": null,
            "min_width": null,
            "object_fit": null,
            "object_position": null,
            "order": null,
            "overflow": null,
            "overflow_x": null,
            "overflow_y": null,
            "padding": null,
            "right": null,
            "top": null,
            "visibility": null,
            "width": null
          }
        },
        "a9655df6068f495186fe9e6267b25be5": {
          "model_module": "@jupyter-widgets/controls",
          "model_module_version": "1.5.0",
          "model_name": "DescriptionStyleModel",
          "state": {
            "_model_module": "@jupyter-widgets/controls",
            "_model_module_version": "1.5.0",
            "_model_name": "DescriptionStyleModel",
            "_view_count": null,
            "_view_module": "@jupyter-widgets/base",
            "_view_module_version": "1.2.0",
            "_view_name": "StyleView",
            "description_width": ""
          }
        },
        "b9aa1e0d0533453abf88cac9bba4665a": {
          "model_module": "@jupyter-widgets/controls",
          "model_module_version": "1.5.0",
          "model_name": "ProgressStyleModel",
          "state": {
            "_model_module": "@jupyter-widgets/controls",
            "_model_module_version": "1.5.0",
            "_model_name": "ProgressStyleModel",
            "_view_count": null,
            "_view_module": "@jupyter-widgets/base",
            "_view_module_version": "1.2.0",
            "_view_name": "StyleView",
            "bar_color": null,
            "description_width": ""
          }
        },
        "bb848be1393c419ca94d50177c96e5bd": {
          "model_module": "@jupyter-widgets/controls",
          "model_module_version": "1.5.0",
          "model_name": "DescriptionStyleModel",
          "state": {
            "_model_module": "@jupyter-widgets/controls",
            "_model_module_version": "1.5.0",
            "_model_name": "DescriptionStyleModel",
            "_view_count": null,
            "_view_module": "@jupyter-widgets/base",
            "_view_module_version": "1.2.0",
            "_view_name": "StyleView",
            "description_width": ""
          }
        },
        "c2b9bc9946c94d2db1caa216f6c126f2": {
          "model_module": "@jupyter-widgets/controls",
          "model_module_version": "1.5.0",
          "model_name": "FloatProgressModel",
          "state": {
            "_dom_classes": [],
            "_model_module": "@jupyter-widgets/controls",
            "_model_module_version": "1.5.0",
            "_model_name": "FloatProgressModel",
            "_view_count": null,
            "_view_module": "@jupyter-widgets/controls",
            "_view_module_version": "1.5.0",
            "_view_name": "ProgressView",
            "bar_style": "success",
            "description": "",
            "description_tooltip": null,
            "layout": "IPY_MODEL_d5040f7e5238490c99ffb95977c033b6",
            "max": 11314,
            "min": 0,
            "orientation": "horizontal",
            "style": "IPY_MODEL_236fe744cc5246118608b5a1e19993e0",
            "value": 11314
          }
        },
        "c346d6e1bead47d7947324f05d95fc23": {
          "model_module": "@jupyter-widgets/controls",
          "model_module_version": "1.5.0",
          "model_name": "DescriptionStyleModel",
          "state": {
            "_model_module": "@jupyter-widgets/controls",
            "_model_module_version": "1.5.0",
            "_model_name": "DescriptionStyleModel",
            "_view_count": null,
            "_view_module": "@jupyter-widgets/base",
            "_view_module_version": "1.2.0",
            "_view_name": "StyleView",
            "description_width": ""
          }
        },
        "c69f62f5ae7849c9a52e0adca30c8733": {
          "model_module": "@jupyter-widgets/controls",
          "model_module_version": "1.5.0",
          "model_name": "DescriptionStyleModel",
          "state": {
            "_model_module": "@jupyter-widgets/controls",
            "_model_module_version": "1.5.0",
            "_model_name": "DescriptionStyleModel",
            "_view_count": null,
            "_view_module": "@jupyter-widgets/base",
            "_view_module_version": "1.2.0",
            "_view_name": "StyleView",
            "description_width": ""
          }
        },
        "c97b019c0a894a3ca8c83e7ccc13606c": {
          "model_module": "@jupyter-widgets/base",
          "model_module_version": "1.2.0",
          "model_name": "LayoutModel",
          "state": {
            "_model_module": "@jupyter-widgets/base",
            "_model_module_version": "1.2.0",
            "_model_name": "LayoutModel",
            "_view_count": null,
            "_view_module": "@jupyter-widgets/base",
            "_view_module_version": "1.2.0",
            "_view_name": "LayoutView",
            "align_content": null,
            "align_items": null,
            "align_self": null,
            "border": null,
            "bottom": null,
            "display": null,
            "flex": null,
            "flex_flow": null,
            "grid_area": null,
            "grid_auto_columns": null,
            "grid_auto_flow": null,
            "grid_auto_rows": null,
            "grid_column": null,
            "grid_gap": null,
            "grid_row": null,
            "grid_template_areas": null,
            "grid_template_columns": null,
            "grid_template_rows": null,
            "height": null,
            "justify_content": null,
            "justify_items": null,
            "left": null,
            "margin": null,
            "max_height": null,
            "max_width": null,
            "min_height": null,
            "min_width": null,
            "object_fit": null,
            "object_position": null,
            "order": null,
            "overflow": null,
            "overflow_x": null,
            "overflow_y": null,
            "padding": null,
            "right": null,
            "top": null,
            "visibility": null,
            "width": null
          }
        },
        "ca9cf8e9040746b8b11619ab0bb4a1cd": {
          "model_module": "@jupyter-widgets/base",
          "model_module_version": "1.2.0",
          "model_name": "LayoutModel",
          "state": {
            "_model_module": "@jupyter-widgets/base",
            "_model_module_version": "1.2.0",
            "_model_name": "LayoutModel",
            "_view_count": null,
            "_view_module": "@jupyter-widgets/base",
            "_view_module_version": "1.2.0",
            "_view_name": "LayoutView",
            "align_content": null,
            "align_items": null,
            "align_self": null,
            "border": null,
            "bottom": null,
            "display": null,
            "flex": null,
            "flex_flow": null,
            "grid_area": null,
            "grid_auto_columns": null,
            "grid_auto_flow": null,
            "grid_auto_rows": null,
            "grid_column": null,
            "grid_gap": null,
            "grid_row": null,
            "grid_template_areas": null,
            "grid_template_columns": null,
            "grid_template_rows": null,
            "height": null,
            "justify_content": null,
            "justify_items": null,
            "left": null,
            "margin": null,
            "max_height": null,
            "max_width": null,
            "min_height": null,
            "min_width": null,
            "object_fit": null,
            "object_position": null,
            "order": null,
            "overflow": null,
            "overflow_x": null,
            "overflow_y": null,
            "padding": null,
            "right": null,
            "top": null,
            "visibility": null,
            "width": null
          }
        },
        "d5040f7e5238490c99ffb95977c033b6": {
          "model_module": "@jupyter-widgets/base",
          "model_module_version": "1.2.0",
          "model_name": "LayoutModel",
          "state": {
            "_model_module": "@jupyter-widgets/base",
            "_model_module_version": "1.2.0",
            "_model_name": "LayoutModel",
            "_view_count": null,
            "_view_module": "@jupyter-widgets/base",
            "_view_module_version": "1.2.0",
            "_view_name": "LayoutView",
            "align_content": null,
            "align_items": null,
            "align_self": null,
            "border": null,
            "bottom": null,
            "display": null,
            "flex": null,
            "flex_flow": null,
            "grid_area": null,
            "grid_auto_columns": null,
            "grid_auto_flow": null,
            "grid_auto_rows": null,
            "grid_column": null,
            "grid_gap": null,
            "grid_row": null,
            "grid_template_areas": null,
            "grid_template_columns": null,
            "grid_template_rows": null,
            "height": null,
            "justify_content": null,
            "justify_items": null,
            "left": null,
            "margin": null,
            "max_height": null,
            "max_width": null,
            "min_height": null,
            "min_width": null,
            "object_fit": null,
            "object_position": null,
            "order": null,
            "overflow": null,
            "overflow_x": null,
            "overflow_y": null,
            "padding": null,
            "right": null,
            "top": null,
            "visibility": null,
            "width": null
          }
        },
        "e1afc8e77d274ff9ba79526a8a60d146": {
          "model_module": "@jupyter-widgets/controls",
          "model_module_version": "1.5.0",
          "model_name": "DescriptionStyleModel",
          "state": {
            "_model_module": "@jupyter-widgets/controls",
            "_model_module_version": "1.5.0",
            "_model_name": "DescriptionStyleModel",
            "_view_count": null,
            "_view_module": "@jupyter-widgets/base",
            "_view_module_version": "1.2.0",
            "_view_name": "StyleView",
            "description_width": ""
          }
        },
        "e8f28deec5a04070a96fe5c60fe15026": {
          "model_module": "@jupyter-widgets/controls",
          "model_module_version": "1.5.0",
          "model_name": "HBoxModel",
          "state": {
            "_dom_classes": [],
            "_model_module": "@jupyter-widgets/controls",
            "_model_module_version": "1.5.0",
            "_model_name": "HBoxModel",
            "_view_count": null,
            "_view_module": "@jupyter-widgets/controls",
            "_view_module_version": "1.5.0",
            "_view_name": "HBoxView",
            "box_style": "",
            "children": [
              "IPY_MODEL_6dbc850b6ad6441db357a60c8216f045",
              "IPY_MODEL_7fc5bc83953745c181e1021fafa14269",
              "IPY_MODEL_925627123280451f914189ea8af8853a"
            ],
            "layout": "IPY_MODEL_4517adb07a3b4a889d5f1ad5e3d5f326"
          }
        },
        "ea463e279237461eb66e7cb7eec5306f": {
          "model_module": "@jupyter-widgets/base",
          "model_module_version": "1.2.0",
          "model_name": "LayoutModel",
          "state": {
            "_model_module": "@jupyter-widgets/base",
            "_model_module_version": "1.2.0",
            "_model_name": "LayoutModel",
            "_view_count": null,
            "_view_module": "@jupyter-widgets/base",
            "_view_module_version": "1.2.0",
            "_view_name": "LayoutView",
            "align_content": null,
            "align_items": null,
            "align_self": null,
            "border": null,
            "bottom": null,
            "display": null,
            "flex": null,
            "flex_flow": null,
            "grid_area": null,
            "grid_auto_columns": null,
            "grid_auto_flow": null,
            "grid_auto_rows": null,
            "grid_column": null,
            "grid_gap": null,
            "grid_row": null,
            "grid_template_areas": null,
            "grid_template_columns": null,
            "grid_template_rows": null,
            "height": null,
            "justify_content": null,
            "justify_items": null,
            "left": null,
            "margin": null,
            "max_height": null,
            "max_width": null,
            "min_height": null,
            "min_width": null,
            "object_fit": null,
            "object_position": null,
            "order": null,
            "overflow": null,
            "overflow_x": null,
            "overflow_y": null,
            "padding": null,
            "right": null,
            "top": null,
            "visibility": null,
            "width": null
          }
        }
      }
    }
  },
  "nbformat": 4,
  "nbformat_minor": 5
}