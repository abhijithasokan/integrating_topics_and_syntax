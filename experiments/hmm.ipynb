{
 "cells": [
  {
   "cell_type": "markdown",
   "id": "e128e5aa",
   "metadata": {},
   "source": [
    "# Implementation of Paper - Integrating Topics and Syntax\n",
    "- [Paper](https://cocosci.princeton.edu/tom/papers/composite.pdf)\n",
    "- Implementation is adapted from the simple LDA model training as described in this [blog](https://www.depends-on-the-definition.com/lda-from-scratch/#how-do-we-find-theta-and-varphi-gibbs-sampling)"
   ]
  },
  {
   "cell_type": "markdown",
   "id": "e7017f5b",
   "metadata": {},
   "source": [
    "## Loading the dataset"
   ]
  },
  {
   "cell_type": "code",
   "execution_count": null,
   "id": "c71fd3e1",
   "metadata": {},
   "outputs": [],
   "source": [
    "import sys\n",
    "sys.path.append('../')\n",
    "from datasets.newsgroup import NewsgroupDataset\n",
    "\n",
    "ds = NewsgroupDataset(num_docs=100, rare_words_threshold=1)\n",
    "tokenised_docs, vocab_map = ds.get_tokenized_docs_and_vocab_map()"
   ]
  },
  {
   "cell_type": "markdown",
   "id": "547972cf",
   "metadata": {},
   "source": [
    "## Hyperparameters"
   ]
  },
  {
   "cell_type": "code",
   "execution_count": null,
   "id": "42dbcc7a",
   "metadata": {},
   "outputs": [],
   "source": [
    "T = 50\n",
    "C = 20\n",
    "V = len(vocab_map)\n",
    "D = len(tokenised_docs)\n",
    "\n",
    "alpha = 1/T\n",
    "beta = 1/V\n",
    "delta = 1/V\n",
    "gamma = 1/C\n",
    "\n",
    "print(\"alpha: \", alpha)\n",
    "print(\"beta: \", beta)\n",
    "print(\"delta: \", delta)\n",
    "print(\"gamma: \", gamma)"
   ]
  },
  {
   "cell_type": "markdown",
   "id": "cfd2e382",
   "metadata": {},
   "source": [
    "## HMM model"
   ]
  },
  {
   "cell_type": "code",
   "execution_count": null,
   "id": "b1302044",
   "metadata": {},
   "outputs": [],
   "source": [
    "from models.hmm import HMM\n",
    "\n",
    "hmm = HMM(\n",
    "    num_topics=T,\n",
    "    num_classes=C,\n",
    "    vocab_map=vocab_map,\n",
    "    alpha=alpha,\n",
    "    beta=beta,\n",
    "    delta=delta,\n",
    "    gamma=gamma\n",
    ")"
   ]
  },
  {
   "cell_type": "markdown",
   "id": "6463b00c",
   "metadata": {},
   "source": [
    "## HMM training"
   ]
  },
  {
   "cell_type": "code",
   "execution_count": null,
   "id": "0a918efe",
   "metadata": {},
   "outputs": [],
   "source": [
    "from models.hmm import HMMTrainer\n",
    "\n",
    "trainer = HMMTrainer(hmm)\n",
    "trainer.train(tokenised_docs, num_iterations=100)"
   ]
  },
  {
   "cell_type": "markdown",
   "id": "794c4c95",
   "metadata": {},
   "source": [
    "### Saving & loading model"
   ]
  },
  {
   "cell_type": "code",
   "execution_count": null,
   "id": "c1f1e31e",
   "metadata": {},
   "outputs": [],
   "source": [
    "hmm.save('checkpoints/hmm_100_docs_100_iterations')\n",
    "del hmm\n",
    "hmm = HMM.load('checkpoints/hmm_100_docs_100_iterations')"
   ]
  },
  {
   "cell_type": "markdown",
   "id": "bc64b792",
   "metadata": {},
   "source": [
    "## Generating documents with trained model"
   ]
  },
  {
   "cell_type": "code",
   "execution_count": null,
   "id": "05af0cba",
   "metadata": {},
   "outputs": [],
   "source": [
    "doc_generator = hmm.get_document_generator()\n",
    "doc_len = 100\n",
    "\n",
    "for doc_id in range(10):\n",
    "    doc = ' '.join((doc_generator(doc_len)))\n",
    "    print(f'Doc {doc_id}: {doc}')"
   ]
  },
  {
   "cell_type": "markdown",
   "id": "1a62a4ba",
   "metadata": {},
   "source": [
    "### Topics"
   ]
  },
  {
   "cell_type": "code",
   "execution_count": null,
   "id": "ce75b04e",
   "metadata": {},
   "outputs": [],
   "source": [
    "k = 20\n",
    "for topic_id in range(hmm.num_topics):\n",
    "    print(f'Topic {topic_id}: {\" \".join(hmm.get_top_k_words_from_topic(topic_id, k))}')\n"
   ]
  },
  {
   "cell_type": "markdown",
   "id": "1b12ae05",
   "metadata": {},
   "source": [
    "### Classes"
   ]
  },
  {
   "cell_type": "code",
   "execution_count": null,
   "id": "e54fadb5",
   "metadata": {},
   "outputs": [],
   "source": [
    "k = 20\n",
    "for class_id in range(hmm.num_classes):\n",
    "    print(f'Class {class_id}: {\" \".join(hmm.get_top_k_words_from_class(class_id, k))}')"
   ]
  }
 ],
 "metadata": {
  "kernelspec": {
   "display_name": "pgm",
   "language": "python",
   "name": "pgm"
  },
  "language_info": {
   "codemirror_mode": {
    "name": "ipython",
    "version": 3
   },
   "file_extension": ".py",
   "mimetype": "text/x-python",
   "name": "python",
   "nbconvert_exporter": "python",
   "pygments_lexer": "ipython3",
   "version": "3.10.11"
  }
 },
 "nbformat": 4,
 "nbformat_minor": 5
}
